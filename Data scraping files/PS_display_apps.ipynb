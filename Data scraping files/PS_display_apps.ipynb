{
  "nbformat": 4,
  "nbformat_minor": 0,
  "metadata": {
    "colab": {
      "name": "PS display apps.ipynb",
      "provenance": [],
      "include_colab_link": true
    },
    "kernelspec": {
      "name": "python3",
      "display_name": "Python 3"
    }
  },
  "cells": [
    {
      "cell_type": "markdown",
      "metadata": {
        "id": "view-in-github",
        "colab_type": "text"
      },
      "source": [
        "<a href=\"https://colab.research.google.com/github/somideepthi/Game-description-analysis-and-keyword-suggestion/blob/master/Data%20scraping%20files/PS_display_apps.ipynb\" target=\"_parent\"><img src=\"https://colab.research.google.com/assets/colab-badge.svg\" alt=\"Open In Colab\"/></a>"
      ]
    },
    {
      "cell_type": "code",
      "metadata": {
        "id": "ljOlF7kS4OBZ",
        "colab_type": "code",
        "outputId": "275eb0bc-91ee-4ec7-9f8c-26172649a5ba",
        "colab": {
          "base_uri": "https://localhost:8080/",
          "height": 34
        }
      },
      "source": [
        "pip install google-play-scraper"
      ],
      "execution_count": 0,
      "outputs": [
        {
          "output_type": "stream",
          "text": [
            "Requirement already satisfied: google-play-scraper in /usr/local/lib/python3.6/dist-packages (0.0.2.0)\n"
          ],
          "name": "stdout"
        }
      ]
    },
    {
      "cell_type": "code",
      "metadata": {
        "id": "iOqS6HXDM31U",
        "colab_type": "code",
        "colab": {}
      },
      "source": [
        "import requests\n",
        "from bs4 import BeautifulSoup"
      ],
      "execution_count": 0,
      "outputs": []
    },
    {
      "cell_type": "code",
      "metadata": {
        "id": "z9xjcJiD3rqW",
        "colab_type": "code",
        "colab": {}
      },
      "source": [
        "import pandas as pd"
      ],
      "execution_count": 0,
      "outputs": []
    },
    {
      "cell_type": "code",
      "metadata": {
        "id": "KbuMKfly4G6w",
        "colab_type": "code",
        "colab": {}
      },
      "source": [
        "from google_play_scraper import app"
      ],
      "execution_count": 0,
      "outputs": []
    },
    {
      "cell_type": "code",
      "metadata": {
        "id": "Fn1hmjobNxB0",
        "colab_type": "code",
        "colab": {}
      },
      "source": [
        "action_url='https://play.google.com/store/apps/category/GAME_TRIVIA'\n",
        "\n",
        "# 'https://play.google.com/store/apps/category/GAME_STRATEGY'\n",
        "# 'https://play.google.com/store/apps/category/GAME_SPORTS'\n",
        "# 'https://play.google.com/store/apps/category/GAME_SIMULATION'\n",
        "# 'https://play.google.com/store/apps/category/GAME_ROLE_PLAYING'\n",
        "# 'https://play.google.com/store/apps/category/GAME_RACING'\n",
        "# 'https://play.google.com/store/apps/category/GAME_PUZZLE'\n",
        "# 'https://play.google.com/store/apps/category/GAME_MUSIC'\n",
        "# 'https://play.google.com/store/apps/category/GAME_EDUCATIONAL'\n",
        "# 'https://play.google.com/store/apps/category/GAME_CASUAL'\n",
        "# 'https://play.google.com/store/apps/category/GAME_CASINO'\n",
        "# 'https://play.google.com/store/apps/category/GAME_CARD'\n",
        "# 'https://play.google.com/store/apps/category/GAME_BOARD'\n",
        "# 'https://play.google.com/store/apps/category/GAME_ARCADE'\n",
        "# 'https://play.google.com/store/apps/category/GAME_ADVENTURE'\n",
        "# 'https://play.google.com/store/apps/category/GAME_ACTION?hl=en-GB'"
      ],
      "execution_count": 0,
      "outputs": []
    },
    {
      "cell_type": "code",
      "metadata": {
        "id": "npe8yHH8N839",
        "colab_type": "code",
        "colab": {}
      },
      "source": [
        " app_page = requests.get(action_url)"
      ],
      "execution_count": 0,
      "outputs": []
    },
    {
      "cell_type": "code",
      "metadata": {
        "id": "2b1tQy9SN9XQ",
        "colab_type": "code",
        "colab": {}
      },
      "source": [
        "# Provide the app page content to BeautifulSoup parser\n",
        "soup = BeautifulSoup(app_page.content, 'html.parser')"
      ],
      "execution_count": 0,
      "outputs": []
    },
    {
      "cell_type": "code",
      "metadata": {
        "id": "Dlc8N4mJOT06",
        "colab_type": "code",
        "colab": {}
      },
      "source": [
        "tag='div'\n",
        "attribute='b8cIId ReQCgd Q9MA7b'\n",
        "gameurls = soup.findAll(tag, class_=attribute)\n",
        "\n",
        "# for i in gameurls:\n",
        "#     print(i)\n",
        "\n",
        "# to get only game names\n",
        "# for x in gameurls:\n",
        "#    print(x.text)"
      ],
      "execution_count": 0,
      "outputs": []
    },
    {
      "cell_type": "code",
      "metadata": {
        "id": "EBcoKLgHQVXw",
        "colab_type": "code",
        "outputId": "6a2a311c-b7bc-4a19-d575-ec17f373f6fd",
        "colab": {
          "base_uri": "https://localhost:8080/",
          "height": 51
        }
      },
      "source": [
        "print(type(gameurls))\n",
        "print(len(gameurls))"
      ],
      "execution_count": 0,
      "outputs": [
        {
          "output_type": "stream",
          "text": [
            "<class 'bs4.element.ResultSet'>\n",
            "30\n"
          ],
          "name": "stdout"
        }
      ]
    },
    {
      "cell_type": "code",
      "metadata": {
        "id": "CA8xgmzXeaTe",
        "colab_type": "code",
        "colab": {}
      },
      "source": [
        "rec=[]"
      ],
      "execution_count": 0,
      "outputs": []
    },
    {
      "cell_type": "code",
      "metadata": {
        "id": "CIJF1vYY29bK",
        "colab_type": "code",
        "colab": {}
      },
      "source": [
        "Id = []"
      ],
      "execution_count": 0,
      "outputs": []
    },
    {
      "cell_type": "code",
      "metadata": {
        "id": "ChmfANBs2jNp",
        "colab_type": "code",
        "outputId": "38be9e3c-9b94-445a-a705-030dee2b2065",
        "colab": {
          "base_uri": "https://localhost:8080/",
          "height": 51
        }
      },
      "source": [
        "print(type(rec))\n",
        "print(type(Id))"
      ],
      "execution_count": 0,
      "outputs": [
        {
          "output_type": "stream",
          "text": [
            "<class 'list'>\n",
            "<class 'list'>\n"
          ],
          "name": "stdout"
        }
      ]
    },
    {
      "cell_type": "code",
      "metadata": {
        "id": "jU6HeViXPPTr",
        "colab_type": "code",
        "outputId": "3a6e279c-88cb-45c6-fded-7d599f6201b0",
        "colab": {
          "base_uri": "https://localhost:8080/",
          "height": 51
        }
      },
      "source": [
        "for x in gameurls:\n",
        "   aa=x.findAll('a')\n",
        "   rec.append(str(aa))\n",
        "  #  print(rec)\n",
        "\n",
        "print(type(aa))\n",
        "print(type(rec))"
      ],
      "execution_count": 0,
      "outputs": [
        {
          "output_type": "stream",
          "text": [
            "<class 'bs4.element.ResultSet'>\n",
            "<class 'list'>\n"
          ],
          "name": "stdout"
        }
      ]
    },
    {
      "cell_type": "code",
      "metadata": {
        "id": "rLUG1UGGgxlR",
        "colab_type": "code",
        "colab": {}
      },
      "source": [
        "for href in rec:\n",
        "    ele=href.split(\"id=\")\n",
        "    subele=ele[1].split(\"\\\"><div\")\n",
        "    Id.append(subele[0])\n",
        "    # subele[0]\n",
        "    #print(Id)"
      ],
      "execution_count": 0,
      "outputs": []
    },
    {
      "cell_type": "code",
      "metadata": {
        "id": "T3XJJ77rxX-I",
        "colab_type": "code",
        "outputId": "9767d1cc-2d5c-49cf-9828-eda69babe430",
        "colab": {
          "base_uri": "https://localhost:8080/",
          "height": 54
        }
      },
      "source": [
        "print(Id[0:5])"
      ],
      "execution_count": 0,
      "outputs": [
        {
          "output_type": "stream",
          "text": [
            "['com.xmonetize.quizzland', 'com.unicostudio.braintest', 'com.oyeapps.logotestfrance', 'bouncing.balls.artworks', 'lemmingsatwork.quiz']\n"
          ],
          "name": "stdout"
        }
      ]
    },
    {
      "cell_type": "code",
      "metadata": {
        "id": "iSRDgVN04-bt",
        "colab_type": "code",
        "outputId": "b7cce625-ecb4-46a2-ded3-80c97f4118ac",
        "colab": {
          "base_uri": "https://localhost:8080/",
          "height": 377
        }
      },
      "source": [
        "for game in Id[0:5]:\n",
        "    t=app(game)\n",
        "    print(t,\"\\n\")\n",
        "    print(type(t),type(t['title']))\n",
        "    print(t['title'])"
      ],
      "execution_count": 0,
      "outputs": [
        {
          "output_type": "stream",
          "text": [
            "{'title': 'Free Trivia Game. Questions & Answers. QuizzLand.', 'appId': 'com.xmonetize.quizzland', 'url': 'https://play.google.com/store/apps/details?id=com.xmonetize.quizzland&hl=en&gl=us', 'description': \"QuizzLand is the entertainment trivia game where you get unlimited questions that can’t be found anywhere else. \\r\\n\\r\\nInstall QuizzLand and answer trivia questions, read interesting explanations, educate yourself!\\r\\n\\r\\nJust your brain and our quizzes. No need to wait for other players' replies! \\r\\n\\r\\nAvailable in 17 languages: English, Spanish, Portuguese, Dutch, Swedish, Korean, Japanese, Italian, Polish, Turkish, Chinese, German, Russian, Indonesian, Czech, Vietnamese and Hindi.\\r\\n\\r\\nEarn coins for correct answers and spend them on hints for the most challenging questions.\\r\\n\\r\\nJoin the league of top players and collect achievements of all kinds.\\r\\n\\r\\nInvite friends and get rewarded! \\r\\n\\r\\n\\r\\nQuizzLand is:\\r\\n-free trivia game to test your IQ and general knowledge\\r\\n-source of valuable and little-known information\\r\\n-entertaining questions for all categories of interest\\r\\n-a great opportunity to challenge your friends and other players for top ranks\\r\\n-delightful learning experience whether you know the answers or not\\r\\n-detailed explanation for every question\\r\\n\\r\\n\\r\\nQuizzLand makes learning easy and fun!\\r\\n\\r\\n\\r\\n*******************************\\r\\nHow to play\\r\\n\\r\\n-check your knowledge: answer questions, read descriptions for correct answers and compete with other players.\\r\\n-to complete a level, you have to find the exit in a trivia maze. \\r\\n-you get points for each question answered correctly. If you give a wrong answer, no points are added to your account. Moreover, each wrong answer takes one of your lives. Your lives are displayed in the top left corner of the screen.\\r\\n-if you continue playing after finding the exit, you will get more points for each question answered correctly. \\r\\n\\r\\nQuestions:\\r\\n\\r\\n-all questions are filtered by difficulty. The more questions you answer, the more difficult questions you get. The difficulty of a question is indicated by white scales under each question. \\r\\n-you get more points for difficult questions.\\r\\n\\r\\nCoins and lives:\\r\\n\\r\\nCoins are the in-game currency used in QuizzLand. Use coins to buy lives, hints and other useful options.\\r\\n-if you want a larger amount of coins, you can make such a purchase in QuizzLand Store. To open the Store, tap on the cart icon in the top right corner of the screen.\\r\\n-earn coins without buying them: collect you daily coin bonus, watch suggested videos or get coins by playing mini-games inside the maze. \\r\\n-you also get coins once the level is completed. In this case, the number of coins depends on how many questions you answered correctly.\\r\\n-your lives refill in a few minutes but you can also get them faster for coins. You can also get lives if you watch a suggested video.\\r\\n\\r\\nQuestion hints:\\r\\n\\r\\n“Double Chance” - activate the hint, then choose the answer. If it is incorrect, then you'll be able to try to answer again.\\r\\n“Fifty Fifty” -  eliminate two incorrect answers in a question.\\r\\n“Majority Vote” - see what answer option the majority of players have chosen.\\r\\n“Skip Question” - activate the hint to skip a question and answer another instead.\\r\\n\\r\\nMap hints:\\r\\n\\r\\n“Show Exit” can be used to find the exit from the maze.\\r\\n“Flip Tile” allows you to flip any of the unopened questions.\\r\\n“Open Map” will flip all the tiles in the maze at once.\\r\\n\\r\\nMini memory games:\\r\\n-play bonus memory games and earn more points. These brain games were created to train your concentration, memory and attention skills.\\r\\n-you can finish a memory game any time you like, however if you do it before the time is out, your reward will be smaller.\", 'descriptionHTML': 'QuizzLand is the entertainment trivia game where you get unlimited questions that can’t be found anywhere else. <br><br>Install QuizzLand and answer trivia questions, read interesting explanations, educate yourself!<br><br>Just your brain and our quizzes. No need to wait for other players&#39; replies! <br><br>Available in 17 languages: English, Spanish, Portuguese, Dutch, Swedish, Korean, Japanese, Italian, Polish, Turkish, Chinese, German, Russian, Indonesian, Czech, Vietnamese and Hindi.<br><br>Earn coins for correct answers and spend them on hints for the most challenging questions.<br><br>Join the league of top players and collect achievements of all kinds.<br><br>Invite friends and get rewarded! <br><br><br>QuizzLand is:<br>-free trivia game to test your IQ and general knowledge<br>-source of valuable and little-known information<br>-entertaining questions for all categories of interest<br>-a great opportunity to challenge your friends and other players for top ranks<br>-delightful learning experience whether you know the answers or not<br>-detailed explanation for every question<br><br><br>QuizzLand makes learning easy and fun!<br><br><br>*******************************<br>How to play<br><br>-check your knowledge: answer questions, read descriptions for correct answers and compete with other players.<br>-to complete a level, you have to find the exit in a trivia maze. <br>-you get points for each question answered correctly. If you give a wrong answer, no points are added to your account. Moreover, each wrong answer takes one of your lives. Your lives are displayed in the top left corner of the screen.<br>-if you continue playing after finding the exit, you will get more points for each question answered correctly. <br><br>Questions:<br><br>-all questions are filtered by difficulty. The more questions you answer, the more difficult questions you get. The difficulty of a question is indicated by white scales under each question. <br>-you get more points for difficult questions.<br><br>Coins and lives:<br><br>Coins are the in-game currency used in QuizzLand. Use coins to buy lives, hints and other useful options.<br>-if you want a larger amount of coins, you can make such a purchase in QuizzLand Store. To open the Store, tap on the cart icon in the top right corner of the screen.<br>-earn coins without buying them: collect you daily coin bonus, watch suggested videos or get coins by playing mini-games inside the maze. <br>-you also get coins once the level is completed. In this case, the number of coins depends on how many questions you answered correctly.<br>-your lives refill in a few minutes but you can also get them faster for coins. You can also get lives if you watch a suggested video.<br><br>Question hints:<br><br>“Double Chance” - activate the hint, then choose the answer. If it is incorrect, then you&#39;ll be able to try to answer again.<br>“Fifty Fifty” -  eliminate two incorrect answers in a question.<br>“Majority Vote” - see what answer option the majority of players have chosen.<br>“Skip Question” - activate the hint to skip a question and answer another instead.<br><br>Map hints:<br><br>“Show Exit” can be used to find the exit from the maze.<br>“Flip Tile” allows you to flip any of the unopened questions.<br>“Open Map” will flip all the tiles in the maze at once.<br><br>Mini memory games:<br>-play bonus memory games and earn more points. These brain games were created to train your concentration, memory and attention skills.<br>-you can finish a memory game any time you like, however if you do it before the time is out, your reward will be smaller.', 'summary': 'Train your brain with the best trivia game. Answer correctly & play without ads.', 'summaryHTML': 'Train your brain with the best trivia game. Answer correctly &amp; play without ads.', 'installs': '10,000,000+', 'minInstalls': 10000000, 'score': 4.80334, 'ratings': 245248, 'reviews': 95521, 'histogram': [4988, 1856, 4045, 14614, 219742], 'price': 0, 'free': True, 'currency': 'USD', 'offersIAP': True, 'size': '38M', 'androidVersion': '4.3', 'androidVersionText': '4.3 and up', 'developer': 'Quiz & Trivia Apps', 'developerId': '6636636945163472864', 'developerEmail': 'contact@quizz.land', 'developerWebsite': 'http://quizz.land/', 'developerAddress': 'Lesoparkovaya 18, H84, Ryazan, 390006, Russia', 'privacyPolicy': 'http://quizz.land/Home/Privacy', 'developerInternalID': '6636636945163472864', 'genre': 'Trivia', 'genreId': 'GAME_TRIVIA', 'icon': 'https://lh3.googleusercontent.com/FkR1bPerc4LJdmFPeh1GQctGmfIq-l8NQyXvw3zRnjwJDA_OFhlOme14Vh0OTNfGlg', 'headerImage': 'https://lh3.googleusercontent.com/3vsaZVvFAJNDT2w_fEyAbzWaCAeRtDGT6Blytx_Zi1hbOcI18czXGPbc_bUKcZXFtg', 'screenshots': ['https://lh3.googleusercontent.com/R5863y-Ey4B5EWrsOXQLYXb167_LRi_aiRkbKH0o7gkUaPXIeM0u_ShzXRqxuSeC41Q', 'https://lh3.googleusercontent.com/ASVkY34j15mwCx4x7AsT_VuBGywk315DB_3zHkSzVcvy4mwU6ckPq_a8aIgXCjAMZlw', 'https://lh3.googleusercontent.com/UmoGX-eCgK9SxX1PA5Wc77gQrQscwC0f5GpHuoQ6weWndJDnA_SrrWGM40Vtp3WzZbM', 'https://lh3.googleusercontent.com/xXHDBW4pFz-vzaY8u2OB63xXT6R4OG34ujY8sI4hQs30yaZ7wCN6_S40VtcW2avEKUg', 'https://lh3.googleusercontent.com/PiK9KCz-8h6iNe0W3Y0ZVoLYleWf5DhNjp9Fdw6bFCHuYTxCG_u3YbOkODtNHw8AL74', 'https://lh3.googleusercontent.com/fhmqlrNxk7zpgYktJsrzqvN_WMXcMoWGlFAuTnuixpruc71UhmykmXNFbv3NqQ0S_WQ', 'https://lh3.googleusercontent.com/nS0x_zyzYrVQp_i-IYHt6NU1mfLWbwahm7TlRbz5HuM5dJLftlFNCN78u6PeBRjynFI', 'https://lh3.googleusercontent.com/pus4WJleztDsTmx1xVgEigtmTXK2SWaJBaca2qQmdBVqpId_efBOf95Q3fFXw2AQa-A', 'https://lh3.googleusercontent.com/qmVJT2x1xx1TlTPWyQQKDl7OMpOFC97kbgljn4KXpRwd396ozRhdQY1k0rbCUHNWEfE', 'https://lh3.googleusercontent.com/Ma3uyOo5_pRpgTqHm_OBz5_eS7XL82zuLME4E5UH0jC2RC8RgbjJkyHSCeSVKKMgpqff', 'https://lh3.googleusercontent.com/w4iUNz_HvoerzarkrylD8fN_i7wx-Mutx1FuluVMf-WWWwJ9hpEkZflHVLNa9fg1NQ', 'https://lh3.googleusercontent.com/SayF7ASQV8_iT2MTR0OBKPGmdtxLt7wClfl_ecuDHvZeax83KBm_v2jOo5UdPuBH0A', 'https://lh3.googleusercontent.com/gKd78vyu2CgUzLR1enz0uu0IfSkHSCG-GOBzt3nqpiL2waCl6jSdxYXFHqV5yFrC-Vse', 'https://lh3.googleusercontent.com/tz70pa86mWrz5dFm81pamEHMJ8n9fyK62YDQhHgN-2o3cHnm6MrnyuIJ6H2ef1LDPp0', 'https://lh3.googleusercontent.com/8c-vjswPbTL2wUG91IxNqo-kUXis_K3k6rlv6rVvTrA7K_OvJuOrlhTwkOVfXKef3RI', 'https://lh3.googleusercontent.com/16FT_35n_A09zD2mP11QDgXi8O8ZerfgwRuzSOHC6P8044FszZmwiRmAR1vXBUMz3A', 'https://lh3.googleusercontent.com/ecnHHLNqRG66caxXKs_nKdmuDRy_VzH2g48u2LytP0ZUlnsI8-Bvg9-_wYzA959jUCCg', 'https://lh3.googleusercontent.com/M4TM3HS09zBSF2b0DJ6VZjijjqer4BfuLmuiHhUrERZ2AIwtc9gBhobXNIOooW5mBTc', 'https://lh3.googleusercontent.com/xILERZtwDTGPh-QF5CNSPyMuBQc4frhxh3IfIJooTg6ca8pBiXTeiQMY9zeq1ttUn86x', 'https://lh3.googleusercontent.com/UMWJrnUOmxQKYV0dpJCI_G8zU6JpdhLfEihb97iA4o4sy5D2qxsZGqhuO74VAwoJDXc', 'https://lh3.googleusercontent.com/oM4UA4w3Yq0Q9DHWHJq_Pyhs3u67fH7CZMH4D1jyiP4gNiymAVI18LwmFi-RYM2RaDOb', 'https://lh3.googleusercontent.com/1x1jl2muBiixTx3G44qjB9kZ4tx2SZZn_iz3qBMpBkDsMLThNjQaDBuxYg0zvGO6pwQ', 'https://lh3.googleusercontent.com/IT93ohJTimo80DEVTURH5aq52AGiSzFfITlM-MojD86zbuNl0_beCWAsV6hkeBjy8Rc', 'https://lh3.googleusercontent.com/QIwMoNhgolx7GDfGm-Rj_xWoYNUWF2Xdis5SSf6fn_R4Amt2ti9KIfpkN07gipmMxFA'], 'video': 'https://www.youtube.com/embed/V8xUikop6sM?ps=play&vq=large&rel=0&autohide=1&showinfo=0', 'videoImage': 'https://i.ytimg.com/vi/V8xUikop6sM/hqdefault.jpg', 'contentRating': 'Everyone', 'contentRatingDescription': None, 'adSupported': True, 'containsAds': True, 'released': 'Feb 14, 2018', 'updated': 1582208691, 'version': '1.1.716', 'recentChanges': '- new questions added\\r\\n- UI improvements', 'recentChangesHTML': '- new questions added<br>- UI improvements', 'comments': [\"Great game! It's a good mix of easy and hard questions, the mini games break things up well. The game makes me want to keep playing. It looks good and has simple graphics. I like the information it gives after you answer, so you can learn more. There's not too many ads -- you get one for wrong answers and you can watch one for more in-game coins.\", \"Awesome game... I love that they explain the question and the answers after each one, no matter if your correct or wrong... even on the questions that you answer correctly they will still explain it and I'm always enhancing my knowledge on things that I already knew about... And the questions that I was incorrect about, I get to learn about right then and right there... I'm always learning something new when playing this game..... Impressed!!!!!\", \"I have been playing quizzland for about a year now and love it. However, recently, you've made changes to the graphics in the game that are so off-putting that I find them most annoying! Why fix something that's not broken! It was all wonderful before! Now, it's horrendous to look at! Please, please change the graphics back to how they were.\", \"As a game its great, I'm pass 100 levels now, but I enjoyed it back then because I could see everything clearly, the contrast of the tile icons was much better. It wasn't broke so why try to follow the sheep in fixing it. I've read other posts who don't like the new white tile look, I'm glad I'm not alone, maybe given enough complaints you'll revert back to the old design prior to the UI update. Also, why are we now automatically charged coins when we don't have enough chances, ask first please.\", 'Repeatedly says that I\\'ve had perfect games even though I clearly have made mistakes. Apart from grammatical challenges, fair number of questions are repeated. The minigame requiring you to remember the snowflake cards flashed doesn\\'t work. Finally, under Account Settings, the \"preparing user data\" doesn\\'t\\'t seem to do anything.', \"Absolutely the best trivia game ever 👌. Not only do you get the questions, but some really cool info along with it. And other player's comments are a bonus... they'll either make you laugh, or sometimes angry, but they're always entertaining. The whole game is super duper 👍.😃\", \"I love how you learn while playing this game. It's fun answering the questions and choosing which categories. I also love the hints are given quite frequently so that you dont have to spend coins on them frequently.\", 'Super fun! I like how they only put in ads if you fail a level. It would be nice if in the profile pictures you could see all of them in row and column format though...\\U0001f9f1 Other then that, great game!', \"The questions are better. However, I had problems technically and it appears I'm no longer @ the 2 🌟 🌟 level: stars dropped to 1. I have 54,000+pts and don't receive any coins for winning other than 250 pts for under 4 wrong answers. The answer scores are very low. There isn't an incentive to play🤔\", \"Was great till a few days ago. Now it wont load at all. Even with the last update. Just the logo comes up and thats all. Emptied the cache. No help. I got the the 160's. Help!!\", 'For a trivia game, it is both informative and entertaining....the seasonal version was great! This is by far the best trivia app I have ever used!! The update turned out to be a pleasant surprise. Game is still fun and informational', 'I love this game. I would have rated it 5 stars except that the graphics have changed recently. The have become very simplistic. This really takes away from the fun of the game.', 'Great game! The only time you see ads is when you get an answer wrong or by your choice! Mini games are fun and challenging too! Keep it up!', 'Excellent trivia game! I really like that they tell you more about the subject whether you get the question wrong or right. I am very glad I found this game. I highly recommend it.', \"It was amazing especially that it gives background about the topic. Well done! It serves as a guide for students and keep up the good work. It's a game everyone must have.\", \"I've had this game awhile and I loved it until you changed the graphics on 2/18/20. Now they are ridiculous. Simplistic and stupid. I'm considering uninstalling the app. No longer a pleasure to play.\", \"Back to one star again!! Why on earth do you try to keep forcing the hideous unusable interface on us? The previous graphics were perfect and east to use and understand.If it ain't broken it doesn't need fixing! I personally shall stop using the game until the player friendly interface is reintroduced AGAIN!!!\", 'Among so many quiz games and puzzle games this is one of the best so far I have ever played.. awesome facts and rich in informations..... Awesome game... Nice to play in free time, which is quiet useful to know about things..', 'A great little app which you can return to at leisure. Loads of choices for how you progress. Only criticism is the awful pastel colours after an update. Please put it back how it was.', 'Love this game. Excellent for developing thinking skills and general knowledge. Too many ads though.', 'The latest update of the game has changed all of the screens and icons to a faded pastel. The screens are harder to read.', 'Yesterday I would have rated this game a 5,I loved it and played all the time. Today they changed the graphics and I can barely look at it. It hurts my eyes,and the look is very childlike. Very upset!', 'This game is astonishing. It gives u a good sense of humor. It tells us somethings that we dont even know happened.', \"So simple, fun and informative! This app is getting addictive, takes a while to get into but now I've learnt so much from it. Honestly for me it's a life saver. Circumstances at home meant I missed a lot of school laterly, and I have severe social anxiety. This app has changed my mindset somehow and instead of me being a terrified, dumb, speechless kid I can now relate to so many more topics, open so many more conversations, and actually have the confidence to speak to others now. Thank you!\", \"I love this game. The answer explanations are fantastic. I also love the changes you made - the daily rewards are now fantastic. Your coin rewards have always been and, even more so now, incredibly generous. The questions are challenging and I've learned a lot while enjoying the experience. Thank you very much! I still don't know what to do with the show exit hints. . Still a great game. Best trivia game out there. Thank you.\", \"Very fun, simple and actually free unlike a number of other games. You earn enough coins that you don't have to buy any in game with real money.\", 'Fun game if you are good at trivia. Too many ads if you are not.', \"I actually Like the game itself alot. But there are way to many ads. It seems everytime an answer is wrong, you have to watch an ad. It's fine to tolerate for awhile but then I just got tired of seeing ad after ad. I also cannot seem to find anything that tells you how the game really works...example: you cant find the exit and just move to the next level. You still have to open all the boxes first. It gives you a FIND EXIT bonus reward to use but I dont understand why that is.\", \"Love this game! I like to play never using the hints or helps. More fun and honest for me that way. The ability to look at the day's history, and study the questions that I answered incorrectly is awesome! Because, it is just as much a learning experience, as it is a game. Especially after so many years post-school. Learn new things every day. Love it!\", 'An interesting presentation of a trivial pursuit type game. Nicely paced, with well presented questions and an attractive interface. The format encourages participation, maintaining interest with pseudo prizes and a variety of activities. Overall I am impressed by the quality of the program, though I would like to see some method of turning off the mini-games as I find them distracting to the general flow of the game as a whole.', 'Trivia questions are fun. The big problem is how the level system works. If I\\'m here for the trivia, I\\'m going to do all the questions, so why would i skip questions, need to flip tiles over, use the \"reveal map\", do the mini games (that are completely irrelevant to the game), or play the treasure tiles? all of it is pointless, it seems like the developers built a game to make ad revenue. The questions don\\'t get harder, so why is there a level system at all? What are the stars for??', 'I don\\'t like the daily bonus change at all. We already get numerous \"free\" bonus items during gameplay. It costs an arm and a leg to use those \"free\" bonuses that you win. I loved the game, the questions, the challenge. I think it would be nice to have a, \"How to Play\", or \"Instructions\" instead of having to figure everything out myself. That would help a lot! Thanks', 'I downloaded this just for fun but spent over an hour on my first play. I love it! Also I am shocked at how much information I have retained over my 52 years! I am an avid reader... and truly believe that, along with a somewhat photographic memory is to be accredited. My thanks to my mother for my love of reading that she instilled in me as a child!', 'I was having a good time and this game was going great until all of a sudden I got notified that I was dead: I had no lives. Never did I see anything telling me how many I had, or how I would lose them: only that in order to continue the game, I had to watch videos. And this After I had accrued a couple of hundred bonus points. No thank you. Consider it uninstalled.', \"Love a good quiz. Not liking the recent format update. Less 'character'.\", 'I have just started playing this game. It is great fun, I love the variety of questions and the interactivity of the game.', \"If you like trivia games and hate ads, this is the app for you. It's easy to navigate, the questions are smart and come with some background info, and you only have to watch a few seconds of an ad when you answer wrong. I also like that there's a comment section under each question, it's a fun way to interact with other players. Overall this game is very entertaining and informative.\", \"I adore this game. I was immediately impressed by the little inserts of information offered on the subject in question upon answering. And the little side games are decent. Just wish I could c the timer. Perhaps its rt there n I'm just not paying attention bc im in the zone. Complaint: click hard several times to make it even harder. Then again i just got my a** kicked\", \"I have to say, out of all the trivia game I have played, this is my favorite. Its easy but can also be a challenge which I love. I'm also learning alot. When you get a right answer and or a wrong it still explains to you as to why the answer is what it is. I love that. Alot of the answers I find I get right, but I never fully knew the extent as to why it was what it was. If I could give more then 5 stars I would! You should download this!\", 'Fun game but what the #&@$! is the point of the Flip Tile, Open Map, and Show Exit \"rewards\"?? They don\\'t seem to help in any way! Get a wrong answer and get punished by having to watch the same freaking 30 second ad over and over. How about fixing these obvious flaws?']} \n",
            "\n",
            "<class 'dict'> <class 'str'>\n",
            "Free Trivia Game. Questions & Answers. QuizzLand.\n",
            "{'title': 'Brain Test: Tricky Puzzles', 'appId': 'com.unicostudio.braintest', 'url': 'https://play.google.com/store/apps/details?id=com.unicostudio.braintest&hl=en&gl=us', 'description': 'Brain Test is an addictive free tricky puzzle game with a series of tricky brain teasers. Different riddles and tricky tests will challenge your mind. This new puzzle game may break common sense and bring your new brain-pushing experience! You can enjoy yourself with your friends with this addictive and funny free IQ game. Think out of the box, crack the puzzles and get ready to take the quiz! You will enjoy this funny tricky test.\\r\\n\\r\\nIf you are a fan of word games, word search games, puzzles, sudoku puzzles, riddle games or any other quiz games, tricky test Brain Test is your best choice! Much funnier than classic stupid test, moron test, dumb test, idiot test games.\\r\\n\\r\\nFeatures:\\r\\n• Tricky & Mind-blowing Brain Teasers: You will be tricked!\\r\\n• Unexpected game answers to the great number of quizzes.\\r\\n• Fun for All Ages: The best trivia game for family & friends’ gatherings!\\r\\n• Enjoy this impossible quiz.\\r\\n• Download this funny game for free.\\r\\n• Endless fun and brain-pushing games.\\r\\n• Great exercise for the brain.\\r\\n• Simple and highly addictive game play.\\r\\n• Great time pass with riddle games.\\r\\n• Play without the internet.\\r\\n• Play offline.\\r\\n\\r\\nHave fun!', 'descriptionHTML': 'Brain Test is an addictive free tricky puzzle game with a series of tricky brain teasers. Different riddles and tricky tests will challenge your mind. This new puzzle game may break common sense and bring your new brain-pushing experience! You can enjoy yourself with your friends with this addictive and funny free IQ game. Think out of the box, crack the puzzles and get ready to take the quiz! You will enjoy this funny tricky test.<br><br>If you are a fan of word games, word search games, puzzles, sudoku puzzles, riddle games or any other quiz games, tricky test Brain Test is your best choice! Much funnier than classic stupid test, moron test, dumb test, idiot test games.<br><br>Features:<br>• Tricky &amp; Mind-blowing Brain Teasers: You will be tricked!<br>• Unexpected game answers to the great number of quizzes.<br>• Fun for All Ages: The best trivia game for family &amp; friends’ gatherings!<br>• Enjoy this impossible quiz.<br>• Download this funny game for free.<br>• Endless fun and brain-pushing games.<br>• Great exercise for the brain.<br>• Simple and highly addictive game play.<br>• Great time pass with riddle games.<br>• Play without the internet.<br>• Play offline.<br><br>Have fun!', 'summary': 'Do you want to test your IQ? Here is the free funny and tricky brain puzzle!', 'summaryHTML': 'Do you want to test your IQ? Here is the free funny and tricky brain puzzle!', 'installs': '10,000,000+', 'minInstalls': 10000000, 'score': 4.6487827, 'ratings': 631702, 'reviews': 178145, 'histogram': [21640, 5907, 16321, 84937, 502895], 'price': 0, 'free': True, 'currency': 'USD', 'offersIAP': True, 'size': '47M', 'androidVersion': '4.1', 'androidVersionText': '4.1 and up', 'developer': 'Unico Studio', 'developerId': '7082921952629566940', 'developerEmail': 'unicostudioco@gmail.com', 'developerWebsite': 'https://unicostudio.co/', 'developerAddress': '35080 Charmwood Court, Newark, CA 94560', 'privacyPolicy': 'https://unicostudio.co/privacy.html', 'developerInternalID': '7082921952629566940', 'genre': 'Trivia', 'genreId': 'GAME_TRIVIA', 'icon': 'https://lh3.googleusercontent.com/POtPtYWIXfwOLy8rUw1QASsiVYvncJdL7Uc32oEQxQ-iBkPqmTL8wpRreo-x3PKn3cc', 'headerImage': 'https://lh3.googleusercontent.com/DQI_rv52IxllF553gcQ7_og1wVx4uUW2mQLw3y5R7S5RUtSGhnAGoaO-u8FQwLJMZ4U', 'screenshots': ['https://lh3.googleusercontent.com/A8x1Dt4i7uUol7DqkQwqJ4njElFlZpJ2NumbfN14icbtgW3uvFTsAdUU56i44gyHaqhl', 'https://lh3.googleusercontent.com/RQeVSRDG_3h9OkZet1iDhbH9RTr5PDzypKkRkXHy2UwdAPP7RngHkV09TVkSZ1hghnUK', 'https://lh3.googleusercontent.com/iOeLZwpUGoY4Z5fr-Qvl_-Znv5FJHku-_flh9CVX_YDMY1SEL_--dMg-iYtJ1FVvy80', 'https://lh3.googleusercontent.com/yNaz6Kba5IC_9RGqcCZUsktAd8nAtcBscPesVojspxEYlz7Au_vQsdYq5gD5oxSls_lI', 'https://lh3.googleusercontent.com/hvQxFfuPecP9vTElbLOEunq1YO_EypGO1oMPj2FNsjXMGpb9hxtVKqgYxPLQ64oCLLM', 'https://lh3.googleusercontent.com/kyJHwrajxtomu5gGHQ89RfA2x535p1q2LXOC0rKjvY1ndgpCoF3xhtdg_dQvhkU77xU', 'https://lh3.googleusercontent.com/iAlKRpe-BJB7X2qcKV4c5vFTYS94yJYq2dH3U3KqyyDB-b3i9_oW5YiLkZnSgp9Hz-g', 'https://lh3.googleusercontent.com/5cR7B4IIybFwQhQ1o5rvl3KsrNaYB7iFV2RfVtdVdNKqY7ajeDVRBXTGqW67L8r7Etk', 'https://lh3.googleusercontent.com/oj_2fhkmOJOPxzFdR08WTeMyDDYy8nx8cRNJodWbPV2BIxXbJYU9CZB6XlLxCkLb5g', 'https://lh3.googleusercontent.com/wzyPyLT2-sl4t9hZNtFX0NfKE5A9j-LNt1xut93ya_1mCGEbvtky3zaOEECMTrpf73zI', 'https://lh3.googleusercontent.com/ekz4hNbiN4vq3ekH5CBga_a57QG8J8uuXdfRDl3ZTwum0DKgGIsyjfNrs9btHC0NSg', 'https://lh3.googleusercontent.com/vMozrnTml9riCA0DiyYTQoUkuzU1kBiFqsKOkuWOHV6FtWrr1nxUfu9RCETZvpe3Jgk', 'https://lh3.googleusercontent.com/yylQWMF7nEyD71x9SzRS3FTMQ0fChwqv4LoIfJ0b0cJoM6jqirAv2cPBpOVvUhM1T34', 'https://lh3.googleusercontent.com/4LvdkbSEc6yHa8K83nEkKTt2QbC6Pw0BxzYE7r4H6d7DFmakS-IHPTNLDnVJOMQREQE', 'https://lh3.googleusercontent.com/GT3ZdPJB2SQi7tysxwZhLIyUMlHzp6fWK-gkBk3fHemy-pFLI2NI-8LYOBM3BZG5PunV', 'https://lh3.googleusercontent.com/8fUM44jw2zq2SPUThyjyz9KSLwuBik47gXycSg0V36GtnQi132bbT5XdDfhPN6ofZtk', 'https://lh3.googleusercontent.com/jkQfBVsl-irTsg0BCb_XERkDg4HaKlmwZQaT5pEaZIZjJYCSFsDAcgPHlCRS4F5ovg', 'https://lh3.googleusercontent.com/8ZOI7dUZJVqN_ye0bQcmZt-QndCoCOVMSTj8Nmu0LHHVu84fZfAb5wiOvmYniOyLmw', 'https://lh3.googleusercontent.com/QQtlf-QIApdfpMWBRsXJW2bCtzAHHUyG3PI1naF-_6BWkT5JZRwQhHyJs08Mj3csJpc', 'https://lh3.googleusercontent.com/JhJUziSNi1UuO3PvQBz7BXB88TJou8uCayYc9VhbhR0qMpAyfXyODsHgGvTu3gIVO92w', 'https://lh3.googleusercontent.com/p6U-Kxibfr9L1jIZDvkmOu34a-Wi-cfUi2unu0KUOJl6Pmq3uZbqq3fVbebp0TSbdiw', 'https://lh3.googleusercontent.com/Ji8YASMhuRjTnbbIGK5Jbh_9FAxlT5DtpFTO01aMblPyPhK1v9nZj36-N6TU7rAy8CoO', 'https://lh3.googleusercontent.com/Yg9G6ur0gHfH5L5Shan1g_ZIbSimgCzv5-0l1DTxRiJimOE6YVFr1FWnKuzEiRhb1A', 'https://lh3.googleusercontent.com/qVgqTCfjUrPumc8DrASKxctW3mbVtLhqPf-cTW6oc9iiREIRMnN3U9f8VArWQByRlg'], 'video': 'https://www.youtube.com/embed/jjOU4EwBE6o?ps=play&vq=large&rel=0&autohide=1&showinfo=0', 'videoImage': 'https://i.ytimg.com/vi/jjOU4EwBE6o/hqdefault.jpg', 'contentRating': 'Everyone', 'contentRatingDescription': None, 'adSupported': True, 'containsAds': True, 'released': 'Nov 21, 2019', 'updated': 1582616168, 'version': '2.37', 'recentChanges': 'New levels added. Game experience optimized. Have Fun!', 'recentChangesHTML': 'New levels added. Game experience optimized. Have Fun!', 'comments': [\"I have enjoyed this app. Made it through all 212 levels decently quickly and some of these made no sense, even after guessing to make it through the level, which is why I'm knocking a star off, but there weren't maybe a handful where that was the case. I would recommend playing if you like these kinds of tricky puzzles, it's fun to try to figure it out. FYI, there are a lot of ads but personally I don't mind that bc that makes the game free and allows you get points for hints.\", \"The game itself is nice, but it's not much of a puzzle,but like thinking out of the box to figure out the request. I am giving 2 stars because It's not quite a puzzle and the adds are killing me. After every level you have to wait for the adds to finish. It was really annoying, how can you focus and concentrate when at every 2 minutes you have to wait through some weird add.\", \"Too many ads. I spend more time watching ads than playing the games. Sometimes you can accomplish the task without the hint, but I'm finding you can't do things or they have to be done specifically (like pull the cookie apart to break it instead of just tapping it) and you have to use a clue/watch an ad to figure out what the game wants. Blah.....\", \"I really love this game! But after every 2 rounds- stages... whatever! After those 2 rounds\\\\stages there is always an ad... And like I said before; it's an awesome game! I WOULD play it everyday.. but, 90% of the game are ads. I would enjoy the game more if it has less ads, we all understand that ads are needed in aps, but... seriously.. every 2 round-thingys. Also, the developers or whoever reads and comments on peoples reviews keep saying the same thing. and by the way nothing has changed.\", 'I actually really enjoyed the puzzles in this game. However an ad after every 1 or 2 puzzles and then being forced to \"choose a bonus reward\" which brings up ANOTHER ad? It\\'s just too much. I wouldn\\'t mind it if it was after every 5 puzzles or so but it\\'s just way too distracting at the moment. Uninstalling unless they fix it.', \"Good game but like others have said there are way too many ads. I would have considered buying this app but the developer is too greedy for me to buy this. You spend more time watching ads than playing the game. This app is more like adware. Get rid of the ads and i may consider buying and i will give a higher rating but until then i won't. Edit. I thought you said you will improve and try the ads interfering. Nothing has changed. If there is no improvement by next update i will uninstall.\", \"I can explain this in three words. MOST. AMAZING. GAME. I love all the brain teasers and I like that there's not much ads. It's super cool, fun and entertaining! Please make more levels because I've finished all of them. It's impressive how they made over two hundred levels. I hope you love the game as much as I do. Download it now. I love it. FIVE STARS!🌟🌟🌟🌟🌟\", 'The game is ok. I agree that there are way too many ads. And some \"puzzles\" are ridiculous in their solving. You need the hint otherwise it makes no sense. If you do keep playing, at some point, I think level 175, the puzzles start repeating. Give it a try if you want something different but it will be pretty frustrating after awhile. Lol. Apparently no levels when you get to 213.', \"For the first time, i got so interested in playing a game (even if there is only one hint per level) but it is so different from the other games. There are no bugs. The adds are not disturbing (even if no adds would have been better). The different challenges at each level make you want to keep playing. The fact that each levels makes use of some of the precedent level's trick or some new tricks is one of the best features of the game. BEST GAME EVER! Can't wait for the new levels... \\U0001f929💗\\U0001f929\", \"This game is super fun!You get to test your brain and have fun at the same time from maths questions to puzzles with cats and dogs!!There is only one problem with this game though,l if you solve a problem correctly it still says it's wrong then when you use light bulbs to get a clue it says it's correct.\", \"OmGod, how can you play with so many Ads? Continual, non stop, ads. Also, I would have appreciated some explanation for incorrect answers that weren't so vague. Last, when the story math questions come, please allow the reader to move the story. I'm not a fast reader. So of course I'm going to answer wrong. It's like being punished before I start, lol. No thanks, all that, especially the ads, made the game absolutely zero fun, ugh. Good idea tho....\", \"Games are good and fun to play. But TOO many ads. I mean I get the need for ads, revenue generation and all... But jeez! You can't have an ad after every single game. A 20 sec ad + lag for a 10 sec round is seriously not worth the effort. Giving this one a hard miss! Ironically all the ads are for a BRAIN OUT game. I think I'll go try that instead. 😂\", 'Great and entertaining but also challenging which will appeal to most. However, sometimes even for me it is very tricky and so I personally recommend to take it slow and steady thinking about each question. But that is just my strategy for working the puzzles out. Please take this all into account and follow my advice and strategic tips. Your truly, Stranger.', \"Some tricky brain teasers, much better than some other more juvenile ones . So why one star? Ads appear after every level so I paid £3.69 (which is double most games i have purchased) to remove ads only to find this doesn't in fact remove all ads like other games, just the ones in between levels. Total rip off. So disappointed. I am more than happy to purchase a goid app for an ad free experience, but I would not have purchased if this had been made clear at the time of purchase.\", \"Way too many ads! Ad after every level is absurd. There isn't even an option for an ad free version. Game would be fun if you didn't have to watch a 30 second ad after every level! Level takes maybe 5 seconds to figure out. Then... 30 second ad. Play another 5 second level..... Hey another 30 second ad. Absurd. Uninsatalled.\", \"The game is pretty up until it gets to the screen shaking questions, I've done everything from standing on my head to throwing it across the room and nothing works. I've checked settings and everything nothing works and it's a waste of time for me to try them especially when they are every 5 levels it seems so I waste all my hints trying to skip those levels.\", 'the \"puzzles\" are ridiculous, very obvious. They are just a device to get you to all the ads, which are plentiful, total spam, and last far longer than it takes to do the \"puzzles\". You will spend ages waiting for ads to load, then play, then you can do a single crappy logic \"puzzle\". IQ not required.', \"Asked for rating after 3 levels...giving average since I really haven't gotten into it yet. UPDATE...this is a gun brain teaser game. Some puzzles were far from obvious, but challenging as well as entertaining. You were running an ad I felt was offensive that I blocked, but that did not take away from gameplay. Hopefully that particular ad was not hand picked.\", 'this game is so amazing! It challenges me everyday, and gives my brain a workout! i suggest this to any person looking for a challenge. This game helps calm me down aswell. Anyone can try it, its honestly an IQ test, and i love it! I hope all of you amazing people enjoy this as much as i do!', 'Forced to review after couple of levels. It\\'s fine to ask players to review but first it was far too soon for me to know if I liked it, second, there was no \"ask me later\" option, instead there\\'s no option to skip, you can\\'t tap away from it and if you tap on it, it brings you straight here. Deleting.', \"Way way way too many ads, one for every question is ridiculous. Speaking of ridiculous, some of the things you have to do to answer the question aren't even related or logical in any way. Make sure your phone is up-to-date and all of your settings for accessibility are turned on because there's a lot of tapping and shaking and turning your phone around to answer the questions. I'm usually pretty generous with free games but this is an absolute waste of time and a complete spam generator.\", \"Not very intelligent puzzles. Lots of ads, it feels like nearly half of the time I'm watching an ad. And the paid version is too expensive for what this game is. Level 43 you have to get a baby to stop crying, and you have to shake your phone! Encouraging people to shake a baby to get it to stop crying? This is a horrendous and scary message.\", \"Hello dear Developers, Hi, as much as I love your company...I love this game the most. It has challenging puzzles which take alot of time to master and they really make you want to press that big 'HINT' button. Overall, I think this is one of my most favorite games! The only one thing I would suggest you to implement in the game is an Online Multiplayer Speedrun which you can play over LAN or do a quickmatch against a random player! 5-STARS!! -Yours sincerely, Andy.\", \"I already fixed the problem I deleated your stupid game that you can't bother to creat right. Fix the stupid thing so it works or screw you. The tv one I had to lick my phone to make it work. # 83 I have tried everything to split the cookie nothing moves on the picture to split you f-ing cookie no matter what direction I slide my finger pinching in pinching ou NOTHING MY LAST TRY WILL BE THROWING MY F-ING PHONE. IF YOU CANT MAKE YOUR GAMES WORK LIKE THEY SHOULD THEN DON'T MAKE THE F-ING THING.\", \"Another pay to win grind game. It begins to grind when to get to the levels in the 100's. The final straw for me was level 137 where all 4 objects are to be matched to France, except you can't move anything and is forced to watch ads and / or use coins to skip the level (not a problem of course if you paid for ad free). I shall skip level 137 not by watching ads but by uninstalling this useless app\", 'This is so fun and tricky perfect for me and my friends to have fun with it may frustrate you sometimes but when you realize the answer and get it correct you\"LL just be like \"OMG I\\'m so stupid\" it\\'s so tricky I\\'m still stuck on a math level but I\\'ll keep on playing it and show it to one of my friends on Sunday who loves puzzles and can solve a math problem easily I think she\\'ll absolutely love this game she loves one of my games that\\'s called Pocket World 3D she is addicted anyways I love this', 'I was expecting an actual brain bender game. These types of games are all the same -- you just tap everything, including the words, try to move everything that\\'s on the screen, or rotate your device hoping for something to work. It\\'s all either stupid wordplay, or just some cheeky attempt at always relating the puzzle to the instruction unnecessarily. Example: You\\'re on level 2. The instruction reads \"click the numbers in order.\" It goes from 1 to 4, but 2 is missing. Just annoying \"puzzles\"', \"way too many ads. theres an ad after every couple of levels, which only take a short amount of time to complete. so far there's been more ads than gameplay for me. it would be alright if they were only like 3 seconds long, but most are 30 seconds. it stops the game from being fun.\", \"Everything about this game is atrocious!!! Having far more advertising time than gameplay is extremely annoying. Yes... It's a free game and adverts are to be expected, but one doesn't download games to play in order to spend more time watching or waiting for adverts to finish running that one is not the least bit interested in!!!\", 'I\\'ve never reviewed an app before. I\\'m breaking my silence to warn you that this is just spam. Most of the \"puzzles\" aren\\'t puzzles at all. Just have you do something random that makes no sense. 30 second ads between almost each game. And you have to watch ads to get hints for the nonsensical games. This is absolutely spam. And the 5 star reviews stating the games are clever and \"ads are not distracting\" are most certainly fake. Uninstalling.', \"The dumbest game I have ever come across...the solution to the puzzle are so disturbing that I wish to throw out my phone out of the window after seeing them...who so ever is the developer of the game...I hope they dosent consider them smart after making this, because it's an honest opinion from my side...u all are literally dumb\", \"I've seen a few reviews were people insulted this game about the number of ads, well clearly you must be useless when you pick to watch them rather than guess right. If it's an ad between levels that's an easy fix. Ad starts, press home, press game icon problem solved! 213 levels, pity no more for me. Took only a day.\", \"Decent puzzles and questions to figure out...But... WAY TOO MANY ADS!! And the same ones over and over and over again. And you make us watch them all the way, or most of the way, through. I can't take it. On the verge of uninstalling... I am done... uninstalled!\", \"Some of the functions don't work. I pressed a fridge handle 5 different times then started clicking elsewhere, clicked the handle again and suddenly it worked. Also, a lot of the answers are just flat out incorrect. According to this game, the moon is closer to us than clouds (an outer sphere of EARTH). It's like a 10 year old made this app.\", 'Deleted the game after 1 or so minute after playing. Was served two ads in a minute or two. Edit: looked at the negative reviews, developer keep saying they will improve the ads from interfering, obviously they have not and they just keep pasting the same response on every negative review. Total bs, stay far from this game developer.', \"OMG! I don't know if any game has annoyed me this much! Totally stupid! My playtime was less than half as much time as it took to watch THE SAME AD OVER AND OVER AND OVER AGAIN! AND my phone kept turning off! Instant UNINSTALL! The only reason it got 1 star is so hopefully they publish my comment. Honestly~ Franchesca Capoochi\", \"The puzzles are fun and can be challenging, but there are WAY too many ads. An ad pops up after EVERY SINGLE PUZZLE! Distracting and annoying. I get that it's a free game, and I'm used to ads, but this is overkill. Not a fan.\", 'Game is set up for you to click on ads no timers. False X takes you straight to apps you have to wait for the right X to show to get out of the ad. they make money. For you get two ads per level one you have to take after you solve the puzzle and one if you what the bonus', 'THIS GAME IS AMAZING I HAVE ONLY DONE 3 LEVELS BUT I LOVE THIS GAME .it is really making my brain work but this is also a good game for people to exersize there brain before they go to school and do there learning. I can control this game really well and it is not hard to figger out the problems . Kind regards ellie mae', \"Easy puzzle, then ad, easy puzzle then another ad... now pick a bonus, another ad... 30 levels into the game the ad format changes and the ads run even longer. The actual puzzles aren't puzzles so much as figuring out the dumb logic. Which is bigger? The elephant or the lion? Logic says elephant even though the image is smaller. So you're wrong and right even if you recognise both possibilities. This app makes you dumber for playing. Passed about 40 levels in 20 minutes, watched an hour of ads\"]} \n",
            "\n",
            "<class 'dict'> <class 'str'>\n",
            "Brain Test: Tricky Puzzles\n",
            "{'title': 'LogoTest France', 'appId': 'com.oyeapps.logotestfrance', 'url': 'https://play.google.com/store/apps/details?id=com.oyeapps.logotestfrance&hl=en&gl=us', 'description': \"LogoTest est un jeu amusant dans lequel vous devrez découvrir le nom complet de centaines de logos de différentes sociétés, produits, et marques.\\r\\nPour découvrir les noms complets, vous pouvez utiliser les astuces disponibles. Vous pouvez également demander à vos amis sur les réseaux sociaux si vous ne connaissez pas la réponse, et les mettre au défi de voir qui peut identifier plus de logos!\\r\\n\\r\\n★ Classement ★\\r\\nRésolvez autant de logos que possible, vous pourrez apparaître dans le classement et rivaliser avec d'autres utilisateurs!\\r\\n\\r\\n★ Plus de 1000 logos dans la version actuelle ★\\r\\nNous sommes entourés dans la vie quotidienne de dizaines de milliers d’entreprises, de marques et de produits divers, que nous voyons dans la rue, à la télévision, sur internet, lors d’événements importants, etc.\\r\\nMais combien d’entre-eux connaissons-nous réellement?\\r\\n\\r\\n★ Astuces ★\\r\\nSi vous êtes coincé et que vous ne connaissez pas la réponse à un certain logo, ne perdez pas espoir, vous pouvez utiliser l'un des conseils à votre disposition.\\r\\n\\r\\n★ Demandez à vos amis ★\\r\\nSi, après avoir utilisé les astuces, vous ne connaissez toujours pas la réponse - ne vous inquiétez pas! Vous pouvez toujours demander à vos amis via Facebook ou Whatsapp et découvrir le logo manquant!\\r\\n\\r\\n★ Contre la Montre ★\\r\\nRésoudre autant de logos possible en 60 secondes et entrer dans le classement\\r\\n\\r\\n★ Statistiques ★\\r\\nVous saurez quel pourcentage du jeu vous avez déjà  joué et quels sont vos succès.\\r\\n\\r\\nBon courage! Vous allez en profiter à coup sûr!\", 'descriptionHTML': 'LogoTest est un jeu amusant dans lequel vous devrez découvrir le nom complet de centaines de logos de différentes sociétés, produits, et marques.<br>Pour découvrir les noms complets, vous pouvez utiliser les astuces disponibles. Vous pouvez également demander à vos amis sur les réseaux sociaux si vous ne connaissez pas la réponse, et les mettre au défi de voir qui peut identifier plus de logos!<br><br>★ Classement ★<br>Résolvez autant de logos que possible, vous pourrez apparaître dans le classement et rivaliser avec d&#39;autres utilisateurs!<br><br>★ Plus de 1000 logos dans la version actuelle ★<br>Nous sommes entourés dans la vie quotidienne de dizaines de milliers d’entreprises, de marques et de produits divers, que nous voyons dans la rue, à la télévision, sur internet, lors d’événements importants, etc.<br>Mais combien d’entre-eux connaissons-nous réellement?<br><br>★ Astuces ★<br>Si vous êtes coincé et que vous ne connaissez pas la réponse à un certain logo, ne perdez pas espoir, vous pouvez utiliser l&#39;un des conseils à votre disposition.<br><br>★ Demandez à vos amis ★<br>Si, après avoir utilisé les astuces, vous ne connaissez toujours pas la réponse - ne vous inquiétez pas! Vous pouvez toujours demander à vos amis via Facebook ou Whatsapp et découvrir le logo manquant!<br><br>★ Contre la Montre ★<br>Résoudre autant de logos possible en 60 secondes et entrer dans le classement<br><br>★ Statistiques ★<br>Vous saurez quel pourcentage du jeu vous avez déjà  joué et quels sont vos succès.<br><br>Bon courage! Vous allez en profiter à coup sûr!', 'summary': 'LogoTest - The biggest logo application in France', 'summaryHTML': 'LogoTest - The biggest logo application in France', 'installs': '100,000+', 'minInstalls': 100000, 'score': 4.354651, 'ratings': 3597, 'reviews': 1375, 'histogram': [188, 62, 345, 690, 2310], 'price': 0, 'free': True, 'currency': 'USD', 'offersIAP': True, 'size': '15M', 'androidVersion': '4.2', 'androidVersionText': '4.2 and up', 'developer': 'OYEApps', 'developerId': 'OYEApps', 'developerEmail': 'oy.office@gmail.com', 'developerWebsite': 'https://www.facebook.com/LogoTestFrance', 'developerAddress': 'Ramat-Gan, Israel', 'privacyPolicy': 'https://sites.google.com/view/privacypolicy-logotestfrance/home?authuser=1', 'developerInternalID': '8732144781506234231', 'genre': 'Trivia', 'genreId': 'GAME_TRIVIA', 'icon': 'https://lh3.googleusercontent.com/hscD-lJG-cCbkUILRovf3ChYY8tTQNjB6p6QpK8y3_RDmmlG3VtUUa1tGjYb7I5vkBY', 'headerImage': 'https://lh3.googleusercontent.com/ZzkBiKj73EyBnbbI2Fjz3akSy7KZPh1rhKY9Rj66Bjk05bxShCvoRcjjwrBi32462yc', 'screenshots': ['https://lh3.googleusercontent.com/it5EhJv0V2wuIXoYNUx7O8N5hn-aSTNI8QefUnvvF3YK26zZj15wTNNXlSbhpZgbGg', 'https://lh3.googleusercontent.com/1HCui0D2m5-ZrrcfJAHXoGBtA2M5M9iegfuf2xOz20EVLgD8OMt2R1iWRpxTFs9q4C4', 'https://lh3.googleusercontent.com/5M4YsPAQHRF_YEy5Ff4nkDjjdmX-kOgJVzdMhWeNlNnlMuZcn4AtDeylGpjZ0P_6Du0', 'https://lh3.googleusercontent.com/ngQKm17vzLkC6yWaDqRLorsTs3BctlAmTax8GvMANL4gCaHFiK2cenvLaukclYJXU8w', 'https://lh3.googleusercontent.com/Qu8VeVWy357YH-1c6keGCH1YZa_eZJsbgOvEmgBG1BtyxIcBU18axpRlAayHA3Qg9_M'], 'video': None, 'videoImage': None, 'contentRating': 'Everyone', 'contentRatingDescription': None, 'adSupported': True, 'containsAds': True, 'released': 'Feb 19, 2019', 'updated': 1580828549, 'version': '1.2.3', 'recentChanges': \"⭐ NOUVEAUX NIVEAUX ⭐\\r\\n⭐ Partagez l'application avec des amis\\r\\net gagnez des pièces facilement avec le nouveau\\r\\nLien d'invitation! ⭐\\r\\nCorrections de bugs et améliorations du code\", 'recentChangesHTML': '⭐ NOUVEAUX NIVEAUX ⭐<br>⭐ Partagez l&#39;application avec des amis<br>et gagnez des pièces facilement avec le nouveau<br>Lien d&#39;invitation! ⭐<br>Corrections de bugs et améliorations du code', 'comments': ['Pubs invasives et UI immonde']} \n",
            "\n",
            "<class 'dict'> <class 'str'>\n",
            "LogoTest France\n",
            "{'title': 'Bouncing Balls', 'appId': 'bouncing.balls.artworks', 'url': 'https://play.google.com/store/apps/details?id=bouncing.balls.artworks&hl=en&gl=us', 'description': 'The bubbles have gone mad and they are trying to take over the game! Hurry up, warm up your fingers and get ready to fight back and show some quick matching skills. Download and play the super awesome and Addictive color balls shooter and discover some bubble bouncing serious fun. Act fast and smash all bubbles before time is up. Don’t let the bubbles reach the red line or else you’ll lose the level. \\r\\nHow to Play:\\r\\n- Drag your finger to move the laser sight in the direction of the bubbles\\r\\n- Lift your finger to shoot bubbles \\r\\n- Match at least three bubbles of the same color to pop the group and clear the screen\\r\\n- See which color you’ll get next and plan ahead your moves. \\r\\n- Keep the bubbles from reaching the red line \\r\\n-  Win all the levels by popping all the bubbles in limited shots!\\r\\n- Swap bubbles without limit, just tap on your bubble to change its color.\\r\\nPlay anytime and anywhere, it’s totally addictive! Explore over 1000 bouncy levels filled with logic riddles, bubble packed puzzles and plenty of fun challenges. \\r\\nIt’s the super addictive bubble shooter!-Try it out today!\\r\\n\\r\\nAll rights of Bubble Shooter™ are owned by Ilyon Dynamics Ltd.', 'descriptionHTML': 'The bubbles have gone mad and they are trying to take over the game! Hurry up, warm up your fingers and get ready to fight back and show some quick matching skills. Download and play the super awesome and Addictive color balls shooter and discover some bubble bouncing serious fun. Act fast and smash all bubbles before time is up. Don’t let the bubbles reach the red line or else you’ll lose the level. <br>How to Play:<br>- Drag your finger to move the laser sight in the direction of the bubbles<br>- Lift your finger to shoot bubbles <br>- Match at least three bubbles of the same color to pop the group and clear the screen<br>- See which color you’ll get next and plan ahead your moves. <br>- Keep the bubbles from reaching the red line <br>-  Win all the levels by popping all the bubbles in limited shots!<br>- Swap bubbles without limit, just tap on your bubble to change its color.<br>Play anytime and anywhere, it’s totally addictive! Explore over 1000 bouncy levels filled with logic riddles, bubble packed puzzles and plenty of fun challenges. <br>It’s the super addictive bubble shooter!-Try it out today!<br><br>All rights of Bubble Shooter™ are owned by Ilyon Dynamics Ltd.', 'summary': 'Pop Bubbles and Beat the Clock! 1000+ Addictive levels!', 'summaryHTML': 'Pop Bubbles and Beat the Clock! 1000+ Addictive levels!', 'installs': '1,000,000+', 'minInstalls': 1000000, 'score': 4.3086185, 'ratings': 15866, 'reviews': 4321, 'histogram': [1447, 442, 1136, 1578, 11261], 'price': 0, 'free': True, 'currency': 'USD', 'offersIAP': True, 'size': '20M', 'androidVersion': '4.1', 'androidVersionText': '4.1 and up', 'developer': 'Bubble Shooter Artworks', 'developerId': '7849730008707515899', 'developerEmail': 'support@ilyon.net', 'developerWebsite': 'https://www.ilyon.net/', 'developerAddress': 'Lev Haarts\\nTevet Building\\nRosh Haayain\\nIsrael', 'privacyPolicy': 'http://www.ilyon.net/privacy-policy/', 'developerInternalID': '7849730008707515899', 'genre': 'Trivia', 'genreId': 'GAME_TRIVIA', 'icon': 'https://lh3.googleusercontent.com/1N7HgZi-C8vPYwYeJHkKPZXQ2hJ8inp5NEsgYep9t8fPtp8SKPO-JMBxjojCDI2ADw', 'headerImage': 'https://lh3.googleusercontent.com/WFU7uceObTMhNYHxzmvHFjZuiLxuTOmK5OFuvLZcSu_4c7DkGQ6WLXtNL91QKRfO08A', 'screenshots': ['https://lh3.googleusercontent.com/-0IM4BPFij4sXutmt25rAZGjK9PIx4EYyl8RvQCQgQ-H_2nv1pRle_DlHUdncVC9Wt91', 'https://lh3.googleusercontent.com/6LI0FaVwcJRRnsqjdSnnLXugndT5Mvs7yVg8W-We1_rTerG9tqBo14n0iuIwZ3glZg', 'https://lh3.googleusercontent.com/C_dZC0NDCB6W6N0dbM67uPLrs4ZyiVBjJ8vHyBI478OJRBnA0Jcdj_798MlkrI5cuYFK', 'https://lh3.googleusercontent.com/TWRYycm_QteClyjcoqNc-NjJ-8pi4brigW3ycZeElAQ0IC9fePbz4G-HWXdzirRyCQ', 'https://lh3.googleusercontent.com/-FqT1FdSNI8qT7JnF5IsG_lSw6Zhgi9Qr8fBraGl1JUGdJBi09YSZXi0dNtvAqXkAeI'], 'video': None, 'videoImage': None, 'contentRating': 'Everyone', 'contentRatingDescription': None, 'adSupported': True, 'containsAds': True, 'released': 'Sep 24, 2016', 'updated': 1578396099, 'version': '4.6', 'recentChanges': None, 'recentChangesHTML': None, 'comments': [\"I used to really love this game and when you watched an ad you would get another turn without using coins now it doesn't work. You need to fix it !!!!\", 'App is good, fix the hanging problem after clearing everyround', 'Not getting any rewards for winning levels', 'Such a beautiful game time pass game', \"No updates can't carry level done to another mobile phone have to restart from beginning frustrating\", 'Much slower than the original bouncing balls with twice as many interruptions with adverts.', 'Game is addictive but ratings when winning is unspecific. However game is fun to play.', 'Annoying when you reach over level 200 keeps cutting out. Grrrr', \"Restart button doesn't work properly.\", 'Time passes wayyyyyy too fast, so lvl3 is like level50 honestly', 'Good game but the graphics are not so much good', 'The speed is too much. This is a shooter game not a version of fast and furious.😠😡', 'i love it! it gets harder and harder <3 i love a great game ;D', 'After updating the bubbles falls super fast..', 'Please add option CONTINUE and NEW GAME!', 'Good way to pass the time', 'Very addictive, love It!', 'When you try to knock the bubbles down it goes to fast', 'love it !! dont want to stop playing', 'Good for time pass', 'Nice game for speeding up', 'Mind relaxing game', 'it is really good.I like it,I really love it', 'I know the speed is fast but I am good at that so I like it', 'good game but ont put', 'when will get the new levels??? I finished the whole', 'I like it too much because it check our mind capacity.', 'Good timepass for me', 'great need more games like this one ) henderson 1776', 'Like this makes you think', \"Wow this game is OSM my mother don't like games but she itself played this game\", 'When will you release more levels?', 'worst game ever', 'please hurry with the new levels', 'good for keeping me alert....', \"It's entertaining\", 'It is nice', 'I enjoy this game very much.', 'Graprhics is ablearn and abide.', 'Very nice game']} \n",
            "\n",
            "<class 'dict'> <class 'str'>\n",
            "Bouncing Balls\n",
            "{'title': 'Quiz: Logo game', 'appId': 'lemmingsatwork.quiz', 'url': 'https://play.google.com/store/apps/details?id=lemmingsatwork.quiz&hl=en&gl=us', 'description': 'Do you like logo quiz, trivia games? Do you think you know companies from all over the world? Quiz: Logo game is just for you! Find out just how much do you know!\\r\\n\\r\\n* guess 2625 brands from all over the world\\r\\n* all American brands. Also Canadian and many more\\r\\n* special American levels\\r\\n* complete 86 engaging unique levels\\r\\n* with increasing difficulty as you play along\\r\\n* retro level - test your knowledge of past company images\\r\\n* collect 44 achievements in Google Play Games\\r\\n* compete with your friends and players from all over the world on two unique leaderboards\\r\\n* use 6 cool unique hints to complete levels\\r\\n* keep a track of your stats and progress\\r\\n* complete picture appears when you guess the logo\\r\\n* and all of that absolutely free\\r\\n\\r\\nUpdates with more levels and hundreds of brands coming soon.\\r\\n\\r\\nIn this trivia game you may find every brand category you love including cars, fashion, movies and games. In this logo quiz you can guess companies from all over the world as well as all American companies. Can you guess every brand you hold dear?\\r\\n\\r\\nAs companies change their labels, here you can come back to several retro images from the past. Enjoy our awesome retro level and test your insight into past company symbols.\\r\\n\\r\\nIn our logo game you will find many more brands and hints not available in other games. All free.\\r\\n\\r\\nAll logos shown or represented in this game are copyright and/or trademark of their respective corporations. The use of low resolution images in this trivia app for use of identification in a informational context qualify as fair use under copyright law.', 'descriptionHTML': 'Do you like logo quiz, trivia games? Do you think you know companies from all over the world? Quiz: Logo game is just for you! Find out just how much do you know!<br><br>* guess 2625 brands from all over the world<br>* all American brands. Also Canadian and many more<br>* special American levels<br>* complete 86 engaging unique levels<br>* with increasing difficulty as you play along<br>* retro level - test your knowledge of past company images<br>* collect 44 achievements in Google Play Games<br>* compete with your friends and players from all over the world on two unique leaderboards<br>* use 6 cool unique hints to complete levels<br>* keep a track of your stats and progress<br>* complete picture appears when you guess the logo<br>* and all of that absolutely free<br><br>Updates with more levels and hundreds of brands coming soon.<br><br>In this trivia game you may find every brand category you love including cars, fashion, movies and games. In this logo quiz you can guess companies from all over the world as well as all American companies. Can you guess every brand you hold dear?<br><br>As companies change their labels, here you can come back to several retro images from the past. Enjoy our awesome retro level and test your insight into past company symbols.<br><br>In our logo game you will find many more brands and hints not available in other games. All free.<br><br>All logos shown or represented in this game are copyright and/or trademark of their respective corporations. The use of low resolution images in this trivia app for use of identification in a informational context qualify as fair use under copyright law.', 'summary': 'Over 800 American brands! Special American levels! 2625 brands worldwide!', 'summaryHTML': 'Over 800 American brands! Special American levels! 2625 brands worldwide!', 'installs': '10,000,000+', 'minInstalls': 10000000, 'score': 4.475632, 'ratings': 373233, 'reviews': 121390, 'histogram': [14746, 6274, 24092, 69717, 258402], 'price': 0, 'free': True, 'currency': 'USD', 'offersIAP': None, 'size': '31M', 'androidVersion': '4.1', 'androidVersionText': '4.1 and up', 'developer': 'Lemmings at work', 'developerId': 'Lemmings+at+work', 'developerEmail': 'lemmingsatwork@gmail.com', 'developerWebsite': 'http://lemmingsatwork.com', 'developerAddress': None, 'privacyPolicy': 'http://lemmingsatwork.com/privacy', 'developerInternalID': '8576091304742761897', 'genre': 'Trivia', 'genreId': 'GAME_TRIVIA', 'icon': 'https://lh3.googleusercontent.com/m_er6ze33ahM1JNivmVyLm5GKCveoFUehpztf2FReTuC3EvkZqaJWpNIbpv6x-00UOs', 'headerImage': 'https://lh3.googleusercontent.com/DKUEFDbx4pVuubRNhIFUu5ewPpGph9zYObZiIeSthMJBdrro6jdVqPuABUOU42BfZcE', 'screenshots': ['https://lh3.googleusercontent.com/CmjycNsHMYWKH6mZBTH6edtFtvx6BqwCWPw1fQe_dXVI8apy5f7fel6-yd7hbGykYDQ', 'https://lh3.googleusercontent.com/hv_NOLod1VtlWbjGewvZyTc_5T-ZvYV5iff_9zk50FgobVuGEx9VNFviLmbiMQO4mDU', 'https://lh3.googleusercontent.com/Jj9DnlaHA5dCJftKC3h8Ktlpx_9oFBKDVCqIFYrS_MY5AxCN-25a8J1Vp2o7v9QFC0w', 'https://lh3.googleusercontent.com/h2Bnb7B8qheCM_SqrLD1LLiz8HHwnkA4AtttRwEfmfdtyMHNeLE7JWyMc_iM-q2sDXQ', 'https://lh3.googleusercontent.com/ZEWMQJuo_L357T0hxRBDhLhy8SkLIe3edqv0psTTrRsEO8KzBcZWZh8hnbAzc6Mg1ZA', 'https://lh3.googleusercontent.com/aH0_K2xLtCYsW1T-zZAF_hy5lf0QClBrnUr0W57CLpDc8b8_bFUnF3AqiNOBbR_GmSit', 'https://lh3.googleusercontent.com/Pc8yBvTRElEHdCKjsV5LkVgE-ZzvU9Xcc46djOygyEJG3DuHZJnEkD1T7-U83XKT9Q', 'https://lh3.googleusercontent.com/I8w2_3WYmj4WQPgT7ezihb-PrqbgUwO1zUR-k5OWXasxRxR-QsNxymyKMXmWQxRclkKy', 'https://lh3.googleusercontent.com/M4wvWbXfGU1lmCGqM1VCz9weF-BoFdQOZOa2busaa-yQtCrQIqoiji4Y30YQ12hpZyQN', 'https://lh3.googleusercontent.com/iN9bHSsfoy5LD87nnnwELPqOfOEESCKSp81MrZlJ4H2ynlmvcTIQ3ttwxBwrIqYZVg', 'https://lh3.googleusercontent.com/PCKVXXvmy-sI6wsR7XdKtibmjGOXtNU0yKE4ZUsbuIhC3RurE6qlPVa-2MR8UxOD3fqh', 'https://lh3.googleusercontent.com/13hXNemhxtJ3n9Ecw0fUdeeIkToHe6yiZ59Mh2AHsxVWuTRe5fw44NB8McWQ4fCNZXjC', 'https://lh3.googleusercontent.com/cfJ1jRZ5cLrvccn8A-tKgNdv8G6UcjL3AkZgWs21Pf-b2KbDNDWK54fS84K3uK-wKh4', 'https://lh3.googleusercontent.com/9m0DXMxrcwEYR0_0vN6UEaOLKZ_Tc9Qqr70STfO-yRt_MIgVsqMz6yFZeaHZM-L2Stcs', 'https://lh3.googleusercontent.com/1qLSNKBoNEAOSJ_MJ0mIdMH6XFNbSP3bm0pH6nhR5IHJnktEwCQHwebMiM5BnDT6Otsf', 'https://lh3.googleusercontent.com/OT7y8Kx5y1XnLAfs-4irgznlO52b24bOCZbinF-K8SiMXmeoVYNgczf5eaGEfDrqRsVn', 'https://lh3.googleusercontent.com/r1V3AD9cqSNQG5vWXjFSfHj_ROkZSQusjO9iLlTj4SWO-Zss9zPQM08OL1xPN_gBlpc', 'https://lh3.googleusercontent.com/xWcxOwQp1lF6IK7vullXSHXrk9qkW_0y9xyCh-3JlyTeobPlC16Q7qEpp4TRFX1oUdk'], 'video': None, 'videoImage': None, 'contentRating': 'Everyone', 'contentRatingDescription': None, 'adSupported': True, 'containsAds': True, 'released': 'Jul 19, 2015', 'updated': 1579554471, 'version': '9.2', 'recentChanges': '* Bug fixes', 'recentChangesHTML': '* Bug fixes', 'comments': ['I love this game! No ads, and its kind of like the Logo game, which is my favorite board game.', \"I rated it a four because if you download it and suddenly what to start from the start again you can't you just go back to the same level which is not very good for me and daniel\", 'It is amazing,no adds nothing is bad about it i luv it and it only takes a min to load or even a sec so i would recomend it for LOGO loves.', 'A simple and a good time pass... Minimum ads... I personally like it... Should add some more levels...', \"This game is enjoyable because you learn logos, and it's sharpening your mind to think outside the box\", 'Easy to understand yet challenging as you get to higher levels. Really cool lay out of the game.', \"It is a nice app!! I love it . The only bad thing in it is the ads but they don't bother me at all.\", 'Love this game as I can escape the daily work life.and relax - great when you get one you know but cant quite remember', \"It's very good and fun to guess but it gets a bit annoying with the adverts\", \"Love this game!! I wish all were similar to this. I'm addicted!!\", 'I really like this game. Today I was waiting for my GF and this was a serious time killer! This game was very entertaning and fun!', 'It relaxes me it is so good that I know alot of logos and this game will prove your knowledge towards logos I recommend this game for everyone.', 'Very fun knowledgeable, addicting game makes time fly...', 'Not only do you have to solve the trade mark but also spell it right. Extremely fun game', 'Challenging, logo that you take for granted becomes measurement of how your memory works.', 'Good game but very simple with many clues', 'Great game that needs one to think outside of the box.', \"I really like it because it is a chalenging game and keeps you occupied.If you are really close to getting it right, it shows you a sign of an undone puzzle. That means that only a one letter isn't in place.You earn hints by for example : playing the game on a Sunday or just playing the game every day.There are more games like this one but the other one's don't give you hits and signs. This is the best game I ever played and it is really entertaining!! ™. 👍👍👍™.\", 'More additional retro levels and retro USA levels and include to your next update is a Philippines and a retro Philippines level got this game a 5 stars nice game 🎮🎮🎮🎮 🎮🎮🎮🎮🎮🎮🎮🎮🎮🎮🎮🎮🎮🎮🎮🎮🎮🎮🎮🎮🎮🎮🎮🎮', 'Good games helps you learn the different logos..', 'I would have given it a 5 if not for the ads which keeps poppimg up.', 'Fun...but too many ads ..', 'Awesome game for kids because it increases your generel knowledge skills', 'Good Game!!!! I love game s like this bc they make u think about stuff.❤️', 'I just dont get it when it comes to the other country logos. While it is not so universal, and this game should be more universal through out the world. High rated / standard logo.. Or in more specific category likes : Hotel Logo / Fast Food logo / Car Logo and so on. Apart from that, I still enjoyed it, especially the retro level.', 'It helps my grand baby learn her signas to know what stuff is', 'Very exciting and educational game. Love it.', \"I would give this game 5 stars. I really enjoy the game and the challenge. The problem is that I can't get to the other rows of letters in the game on my S9 Edge.\", 'This game is amazing and so fun to play! Every category is so good I downloded the same game on my ipad (I play on my phone) Everyone who downloads this is guaranteed to have a good time.', 'Good game but can be a bit tedious', 'It has good logos but needs some graphics improvement because its so simple and make the amount of price of hints a little bit lesser its good to do when you are bored and it makes u have fun even if you are offline so please download this its so good thanks for Lemmings at work for such an amazing trivia game and makes you feel like you are a genius in anyways and makes u the smartest in any group of people and yeah its good but it just needs some graphics improvements so i Wish u improve it ok', 'Very good and engaging', 'I were played this game 2 years ago when we got the word right it use to show the information about that brand...so it was very useful as a part of gk too', \"Fun to play! You recognise the logo but can't quite remember the name, good for getting the grey matter to work!\", 'Great app, always give bonus hints for special events and really fun to play. I would recommend this to everyone.', 'Fun game, some are really difficult', 'I enjoy the laid back flow, but there is a lot of repeated logos, so often I see the same thing over and over.', \"Its ok but sometimes I don't know what is the Logo is , I searched goggle for it or I just use my hints which is pain full. It all it is a good game\", 'I super enjoyed this app! What I really love was that it also has the retro/old logo of the companies so its like a trivia as well', 'A fun game I can pick up and play on the go I have no problems when playing the game I think its a fun game to play']} \n",
            "\n",
            "<class 'dict'> <class 'str'>\n",
            "Quiz: Logo game\n"
          ],
          "name": "stdout"
        }
      ]
    },
    {
      "cell_type": "code",
      "metadata": {
        "id": "Dk0vWoBfxY5W",
        "colab_type": "code",
        "colab": {}
      },
      "source": [
        "features=[' title ' ,' appId ' ,' url ' ,' description ' ,' summary ' ,' installs ' ,\n",
        "' minInstalls ' ,' score ' ,' ratings ' ,' reviews ' ,' price ' ,' free ' ,' currency ' ,\n",
        "' offersIAP ' ,' size ' ,' androidVersion ' ,' developer ' ,' developerId ' ,' developerEmail ' ,\n",
        "' developerWebsite ' ,' privacyPolicy ' ,' developerInternalID ' ,' genre ' ,' genreId ' ,\n",
        "' icon ' ,' headerImage ' ,\n",
        "# ' screenshots ' ,' video ' ,' videoImage ' ,\n",
        "' contentRating ' ,\n",
        "' contentRatingDescription ' ,' adSupported ' ,' containsAds ' ,' released ' ,' updated ' ,\n",
        "' version ' ,' recentChanges ' ,' comments '\n",
        "]"
      ],
      "execution_count": 0,
      "outputs": []
    },
    {
      "cell_type": "code",
      "metadata": {
        "id": "1j7-jLD79xI6",
        "colab_type": "code",
        "outputId": "a5fb5366-f16b-4c0c-9f9a-461518e6a75e",
        "colab": {
          "base_uri": "https://localhost:8080/",
          "height": 68
        }
      },
      "source": [
        "records=pd.DataFrame()\n",
        "print(records)"
      ],
      "execution_count": 0,
      "outputs": [
        {
          "output_type": "stream",
          "text": [
            "Empty DataFrame\n",
            "Columns: []\n",
            "Index: []\n"
          ],
          "name": "stdout"
        }
      ]
    },
    {
      "cell_type": "code",
      "metadata": {
        "id": "6hUrdUZSKfHJ",
        "colab_type": "code",
        "colab": {}
      },
      "source": [
        "def add_details_as_row(game_result):\n",
        "    row=[]\n",
        "    row.append(game_result['title'])\n",
        "    row.append(game_result['appId'])\n",
        "    row.append(game_result['url'])\n",
        "    row.append(game_result['description'])\n",
        "    row.append(game_result['summary'])\n",
        "    row.append(game_result['installs'])\n",
        "    row.append(game_result['minInstalls'])\n",
        "    row.append(game_result['score'])\n",
        "    row.append(game_result['ratings'])\n",
        "    row.append(game_result['reviews'])\n",
        "    row.append(game_result['price'])\n",
        "    row.append(game_result['free'])\n",
        "    row.append(game_result['currency'])\n",
        "    row.append(game_result['offersIAP'])\n",
        "    row.append(game_result['size'])\n",
        "    row.append(game_result['androidVersion'])\n",
        "    row.append(game_result['developer'])\n",
        "    row.append(game_result['developerId'])\n",
        "    row.append(game_result['developerEmail'])\n",
        "    row.append(game_result['developerWebsite'])\n",
        "    row.append(game_result['privacyPolicy'])\n",
        "    row.append(game_result['developerInternalID'])\n",
        "    row.append(game_result['genre'])\n",
        "    row.append(game_result['genreId'])\n",
        "    row.append(game_result['icon'])\n",
        "    row.append(game_result['headerImage'])\n",
        "    row.append(game_result['contentRating'])\n",
        "    row.append(game_result['contentRatingDescription'])\n",
        "    row.append(game_result['adSupported'])\n",
        "    row.append(game_result['containsAds'])\n",
        "    row.append(game_result['released'])\n",
        "    row.append(game_result['updated'])\n",
        "    row.append(game_result['version'])\n",
        "    row.append(game_result['recentChanges'])\n",
        "    row.append(game_result['comments'])\n",
        "    return row;"
      ],
      "execution_count": 0,
      "outputs": []
    },
    {
      "cell_type": "code",
      "metadata": {
        "id": "8LmezipHytTf",
        "colab_type": "code",
        "colab": {}
      },
      "source": [
        "for game in Id:\n",
        "    each_game_result=app (game)\n",
        "    eachrow=add_details_as_row(each_game_result)\n",
        "    #print(eachrow)\n",
        "    records = records.append([eachrow])\n",
        "\n",
        "# appending rows \n",
        "# for key,value in game_result.items(): \n",
        "#         row.append(value) "
      ],
      "execution_count": 0,
      "outputs": []
    },
    {
      "cell_type": "code",
      "metadata": {
        "id": "i67_pq2t_1Su",
        "colab_type": "code",
        "outputId": "55bb76e6-43b0-41f9-fcc0-5e6d7dac0105",
        "colab": {
          "base_uri": "https://localhost:8080/",
          "height": 578
        }
      },
      "source": [
        "print(records)"
      ],
      "execution_count": 0,
      "outputs": [
        {
          "output_type": "stream",
          "text": [
            "                                                   0  ...                                                 34\n",
            "0  Free Trivia Game. Questions & Answers. QuizzLand.  ...  [Great game! It's a good mix of easy and hard ...\n",
            "0                         Brain Test: Tricky Puzzles  ...  [I have enjoyed this app. Made it through all ...\n",
            "0                                    LogoTest France  ...                     [Pubs invasives et UI immonde]\n",
            "0                                     Bouncing Balls  ...  [I used to really love this game and when you ...\n",
            "0                                    Quiz: Logo game  ...  [I love this game! No ads, and its kind of lik...\n",
            "0  Quiz Patente 2020 Nuovo - Divertiti con la Pat...  ...  [Very Expensive Monthly payments. One Time pay...\n",
            "0                      حلها واحتلها - لعبة كلمة السر  ...  [Great app. Very useful and joyful., The lette...\n",
            "0                                Trivia Survival 100  ...  [So good a bit it is difficult part of this ga...\n",
            "0                                      Saif Almarifa  ...  [Decent game, was a huge part of my childhood....\n",
            "0                     فطحل العرب - لعبة معلومات عامة  ...  [The best I have found for expanding arabic vo...\n",
            "0                                            Sporcle  ...  [Bought this cause I enjoy some of the quizzes...\n",
            "0                              Trivia Crack (No Ads)  ...  [Too many duplicate and questions on the same ...\n",
            "0                     4 Player Reactor (Multiplayer)  ...  [Pretty fun game to play with 2-4 people! I al...\n",
            "0                                     Pointless Quiz  ...  [I downloaded the game and bought all the quiz...\n",
            "0                                       Trivia Crack  ...  [The game is pretty dang fun. I like to play i...\n",
            "0                              Trivia Crack Kingdoms  ...  [Fun game to play. Only issue I've had is that...\n",
            "0                             Draw Something Classic  ...  [I just started playing and this is great comp...\n",
            "0                                             QuizUp  ...  [i have played this game since it came out and...\n",
            "0                        Guess The Song - Music Quiz  ...  [Not a bad game, a lot of forgotten songs, yet...\n",
            "0                              Trivia Crack (No Ads)  ...  [Too many duplicate and questions on the same ...\n",
            "0                                              Think  ...  [Really enjoy it. Some questions are hard but ...\n",
            "0                         94% - Quiz, Trivia & Logic  ...  [The game is alright, it gets you thinking. My...\n",
            "0  100 PICS Quiz - Guess Trivia, Logo & Picture G...  ...  [I just downloaded the free Lyric topic and I'...\n",
            "0                        Guess The Song - Music Quiz  ...  [Not a bad game, a lot of forgotten songs, yet...\n",
            "0                                          Logo Quiz  ...  [It is a very nice game. At first, i thought a...\n",
            "0                                Picture Quiz: Logos  ...  [There is a bug in this app that can be exploi...\n",
            "0                                      Guess the GIF  ...  [This game is good with the HUGE exception. Af...\n",
            "0                        Guess The Movie & Character  ...  [It was fun but I paid for coins and never eve...\n",
            "0                     Close Up Horror: Pic Word Quiz  ...  [Boring after first 5 levels. Good idea as a h...\n",
            "0                               Guess The Movie Quiz  ...  [It's great. There are also other great movies...\n",
            "\n",
            "[30 rows x 35 columns]\n"
          ],
          "name": "stdout"
        }
      ]
    },
    {
      "cell_type": "code",
      "metadata": {
        "id": "axH7EMsDBpu6",
        "colab_type": "code",
        "colab": {}
      },
      "source": [
        "records.to_csv('Gaming.csv',index = False, header=True)"
      ],
      "execution_count": 0,
      "outputs": []
    },
    {
      "cell_type": "code",
      "metadata": {
        "colab_type": "code",
        "id": "vKSXsWOO8EOn",
        "outputId": "da9839bd-9d98-4bf9-92be-5351d0c8c7b2",
        "colab": {
          "base_uri": "https://localhost:8080/",
          "height": 578
        }
      },
      "source": [
        "new_record=pd.read_csv('/content/Gaming.csv',sep=',')\n",
        "print(new_record)\n",
        "\n",
        "#/content/Gaming.csv"
      ],
      "execution_count": 0,
      "outputs": [
        {
          "output_type": "stream",
          "text": [
            "                                                    0  ...                                                 34\n",
            "0   Free Trivia Game. Questions & Answers. QuizzLand.  ...  [\"Great game! It's a good mix of easy and hard...\n",
            "1                          Brain Test: Tricky Puzzles  ...  [\"I have enjoyed this app. Made it through all...\n",
            "2                                     LogoTest France  ...                   ['Pubs invasives et UI immonde']\n",
            "3                                      Bouncing Balls  ...  [\"I used to really love this game and when you...\n",
            "4                                     Quiz: Logo game  ...  ['I love this game! No ads, and its kind of li...\n",
            "5   Quiz Patente 2020 Nuovo - Divertiti con la Pat...  ...  ['Very Expensive Monthly payments. One Time pa...\n",
            "6                       حلها واحتلها - لعبة كلمة السر  ...  ['Great app. Very useful and joyful.', 'The le...\n",
            "7                                 Trivia Survival 100  ...  ['So good a bit it is difficult part of this g...\n",
            "8                                       Saif Almarifa  ...  [\"Decent game, was a huge part of my childhood...\n",
            "9                      فطحل العرب - لعبة معلومات عامة  ...  ['The best I have found for expanding arabic v...\n",
            "10                                            Sporcle  ...  [\"Bought this cause I enjoy some of the quizze...\n",
            "11                              Trivia Crack (No Ads)  ...  [\"Too many duplicate and questions on the same...\n",
            "12                     4 Player Reactor (Multiplayer)  ...  [\"Pretty fun game to play with 2-4 people! I a...\n",
            "13                                     Pointless Quiz  ...  [\"I downloaded the game and bought all the qui...\n",
            "14                                       Trivia Crack  ...  ['The game is pretty dang fun. I like to play ...\n",
            "15                              Trivia Crack Kingdoms  ...  [\"Fun game to play. Only issue I've had is tha...\n",
            "16                             Draw Something Classic  ...  [\"I just started playing and this is great com...\n",
            "17                                             QuizUp  ...  [\"i have played this game since it came out an...\n",
            "18                        Guess The Song - Music Quiz  ...  ['Not a bad game, a lot of forgotten songs, ye...\n",
            "19                              Trivia Crack (No Ads)  ...  [\"Too many duplicate and questions on the same...\n",
            "20                                              Think  ...  [\"Really enjoy it. Some questions are hard but...\n",
            "21                         94% - Quiz, Trivia & Logic  ...  ['The game is alright, it gets you thinking. M...\n",
            "22  100 PICS Quiz - Guess Trivia, Logo & Picture G...  ...  [\"I just downloaded the free Lyric topic and I...\n",
            "23                        Guess The Song - Music Quiz  ...  ['Not a bad game, a lot of forgotten songs, ye...\n",
            "24                                          Logo Quiz  ...  ['It is a very nice game. At first, i thought ...\n",
            "25                                Picture Quiz: Logos  ...  [\"There is a bug in this app that can be explo...\n",
            "26                                      Guess the GIF  ...  ['This game is good with the HUGE exception. A...\n",
            "27                        Guess The Movie & Character  ...  ['It was fun but I paid for coins and never ev...\n",
            "28                     Close Up Horror: Pic Word Quiz  ...  ['Boring after first 5 levels. Good idea as a ...\n",
            "29                               Guess The Movie Quiz  ...  [\"It's great. There are also other great movie...\n",
            "\n",
            "[30 rows x 35 columns]\n"
          ],
          "name": "stdout"
        }
      ]
    },
    {
      "cell_type": "code",
      "metadata": {
        "id": "1SlBEH9i9W_w",
        "colab_type": "code",
        "colab": {}
      },
      "source": [
        ""
      ],
      "execution_count": 0,
      "outputs": []
    }
  ]
}