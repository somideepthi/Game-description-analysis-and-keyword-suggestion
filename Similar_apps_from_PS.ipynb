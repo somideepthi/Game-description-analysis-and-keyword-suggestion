{
  "nbformat": 4,
  "nbformat_minor": 0,
  "metadata": {
    "colab": {
      "name": "Similar apps from PS.ipynb",
      "provenance": [],
      "include_colab_link": true
    },
    "kernelspec": {
      "name": "python3",
      "display_name": "Python 3"
    }
  },
  "cells": [
    {
      "cell_type": "markdown",
      "metadata": {
        "id": "view-in-github",
        "colab_type": "text"
      },
      "source": [
        "<a href=\"https://colab.research.google.com/github/somideepthi/Game-description-analysis-and-keyword-suggestion/blob/master/Similar_apps_from_PS.ipynb\" target=\"_parent\"><img src=\"https://colab.research.google.com/assets/colab-badge.svg\" alt=\"Open In Colab\"/></a>"
      ]
    },
    {
      "cell_type": "code",
      "metadata": {
        "id": "dgRMU76passS",
        "colab_type": "code",
        "colab": {}
      },
      "source": [
        "from google.colab import auth\n",
        "auth.authenticate_user()\n",
        "\n",
        "import gspread\n",
        "from oauth2client.client import GoogleCredentials\n",
        "\n",
        "gc = gspread.authorize(GoogleCredentials.get_application_default())"
      ],
      "execution_count": 0,
      "outputs": []
    },
    {
      "cell_type": "code",
      "metadata": {
        "id": "F9yVRVR3eGF8",
        "colab_type": "code",
        "colab": {}
      },
      "source": [
        "import pandas as pd"
      ],
      "execution_count": 0,
      "outputs": []
    },
    {
      "cell_type": "code",
      "metadata": {
        "id": "4VoRmzjwk87_",
        "colab_type": "code",
        "colab": {}
      },
      "source": [
        "pip install play-scraper"
      ],
      "execution_count": 0,
      "outputs": []
    },
    {
      "cell_type": "code",
      "metadata": {
        "id": "ZAiOCNrBy4Tc",
        "colab_type": "code",
        "colab": {}
      },
      "source": [
        "pip install google_play_scraper"
      ],
      "execution_count": 0,
      "outputs": []
    },
    {
      "cell_type": "code",
      "metadata": {
        "id": "FJxjliiAlJu2",
        "colab_type": "code",
        "colab": {}
      },
      "source": [
        "import play_scraper as ps"
      ],
      "execution_count": 0,
      "outputs": []
    },
    {
      "cell_type": "code",
      "metadata": {
        "id": "It0Ro0KWy1UZ",
        "colab_type": "code",
        "colab": {}
      },
      "source": [
        "from google_play_scraper import app"
      ],
      "execution_count": 0,
      "outputs": []
    },
    {
      "cell_type": "code",
      "metadata": {
        "id": "MCno5FGOa6d2",
        "colab_type": "code",
        "colab": {}
      },
      "source": [
        "worksheet = gc.open('Gaming').sheet1"
      ],
      "execution_count": 0,
      "outputs": []
    },
    {
      "cell_type": "code",
      "metadata": {
        "id": "HCNI32h8cU3z",
        "colab_type": "code",
        "colab": {}
      },
      "source": [
        "sheet_data=worksheet.get_all_values()"
      ],
      "execution_count": 0,
      "outputs": []
    },
    {
      "cell_type": "code",
      "metadata": {
        "id": "HTJ8fgYyd--d",
        "colab_type": "code",
        "colab": {}
      },
      "source": [
        "df = pd.DataFrame(sheet_data[1:],columns=sheet_data[0])"
      ],
      "execution_count": 0,
      "outputs": []
    },
    {
      "cell_type": "code",
      "metadata": {
        "id": "XR37tmiIeWMd",
        "colab_type": "code",
        "outputId": "d70cf385-de8c-404a-a3e0-dea7cbdd20d8",
        "colab": {
          "base_uri": "https://localhost:8080/",
          "height": 198
        }
      },
      "source": [
        "AppId=df['AppID']\n",
        "print(len(AppId))\n",
        "AppId[0:10]"
      ],
      "execution_count": 0,
      "outputs": [
        {
          "output_type": "error",
          "ename": "NameError",
          "evalue": "ignored",
          "traceback": [
            "\u001b[0;31m---------------------------------------------------------------------------\u001b[0m",
            "\u001b[0;31mNameError\u001b[0m                                 Traceback (most recent call last)",
            "\u001b[0;32m<ipython-input-2-1099261b0f5f>\u001b[0m in \u001b[0;36m<module>\u001b[0;34m()\u001b[0m\n\u001b[0;32m----> 1\u001b[0;31m \u001b[0mAppId\u001b[0m\u001b[0;34m=\u001b[0m\u001b[0mdf\u001b[0m\u001b[0;34m[\u001b[0m\u001b[0;34m'AppID'\u001b[0m\u001b[0;34m]\u001b[0m\u001b[0;34m\u001b[0m\u001b[0;34m\u001b[0m\u001b[0m\n\u001b[0m\u001b[1;32m      2\u001b[0m \u001b[0mprint\u001b[0m\u001b[0;34m(\u001b[0m\u001b[0mlen\u001b[0m\u001b[0;34m(\u001b[0m\u001b[0mAppId\u001b[0m\u001b[0;34m)\u001b[0m\u001b[0;34m)\u001b[0m\u001b[0;34m\u001b[0m\u001b[0;34m\u001b[0m\u001b[0m\n\u001b[1;32m      3\u001b[0m \u001b[0mAppId\u001b[0m\u001b[0;34m[\u001b[0m\u001b[0;36m0\u001b[0m\u001b[0;34m:\u001b[0m\u001b[0;36m10\u001b[0m\u001b[0;34m]\u001b[0m\u001b[0;34m\u001b[0m\u001b[0;34m\u001b[0m\u001b[0m\n",
            "\u001b[0;31mNameError\u001b[0m: name 'df' is not defined"
          ]
        }
      ]
    },
    {
      "cell_type": "code",
      "metadata": {
        "id": "eYsOBUy8t61W",
        "colab_type": "code",
        "colab": {}
      },
      "source": [
        "def add_details_as_row(game_result):\n",
        "    row=[]\n",
        "    row.append(game_result['title'])\n",
        "    row.append(game_result['appId'])\n",
        "    row.append(game_result['url'])\n",
        "    row.append(game_result['description'])\n",
        "    row.append(game_result['summary'])\n",
        "    row.append(game_result['installs'])\n",
        "    row.append(game_result['minInstalls'])\n",
        "    row.append(game_result['score'])\n",
        "    row.append(game_result['ratings'])\n",
        "    row.append(game_result['reviews'])\n",
        "    row.append(game_result['price'])\n",
        "    row.append(game_result['free'])\n",
        "    row.append(game_result['currency'])\n",
        "    row.append(game_result['offersIAP'])\n",
        "    row.append(game_result['size'])\n",
        "    row.append(game_result['androidVersion'])\n",
        "    row.append(game_result['developer'])\n",
        "    row.append(game_result['developerId'])\n",
        "    row.append(game_result['developerEmail'])\n",
        "    row.append(game_result['developerWebsite'])\n",
        "    row.append(game_result['privacyPolicy'])\n",
        "    row.append(game_result['developerInternalID'])\n",
        "    row.append(game_result['genre'])\n",
        "    row.append(game_result['genreId'])\n",
        "    row.append(game_result['icon'])\n",
        "    row.append(game_result['headerImage'])\n",
        "    row.append(game_result['contentRating'])\n",
        "    row.append(game_result['contentRatingDescription'])\n",
        "    row.append(game_result['adSupported'])\n",
        "    row.append(game_result['containsAds'])\n",
        "    row.append(game_result['released'])\n",
        "    row.append(game_result['updated'])\n",
        "    row.append(game_result['version'])\n",
        "    row.append(game_result['recentChanges'])\n",
        "    row.append(game_result['comments'])\n",
        "    return row;"
      ],
      "execution_count": 0,
      "outputs": []
    },
    {
      "cell_type": "code",
      "metadata": {
        "id": "Uhlz5qNY7IQu",
        "colab_type": "code",
        "outputId": "89ee9757-c9e3-4484-fb7c-391f0ac7050d",
        "colab": {
          "base_uri": "https://localhost:8080/",
          "height": 34
        }
      },
      "source": [
        "PartAppId=AppId[1150:1204]\n",
        "len(PartAppId)"
      ],
      "execution_count": 0,
      "outputs": [
        {
          "output_type": "execute_result",
          "data": {
            "text/plain": [
              "54"
            ]
          },
          "metadata": {
            "tags": []
          },
          "execution_count": 232
        }
      ]
    },
    {
      "cell_type": "code",
      "metadata": {
        "id": "cng0fmw92zHi",
        "colab_type": "code",
        "outputId": "02951910-e6ba-4f34-a620-f0854c5f69e9",
        "colab": {
          "base_uri": "https://localhost:8080/",
          "height": 68
        }
      },
      "source": [
        "recordsDF=pd.DataFrame()\n",
        "print(recordsDF)"
      ],
      "execution_count": 0,
      "outputs": [
        {
          "output_type": "stream",
          "text": [
            "Empty DataFrame\n",
            "Columns: []\n",
            "Index: []\n"
          ],
          "name": "stdout"
        }
      ]
    },
    {
      "cell_type": "code",
      "metadata": {
        "id": "jTzEFk4I6GxK",
        "colab_type": "code",
        "outputId": "a213603e-35a2-46e5-fd7a-b40085f45c5d",
        "colab": {
          "base_uri": "https://localhost:8080/",
          "height": 935
        }
      },
      "source": [
        " for i in PartAppId:\n",
        "    print(i)"
      ],
      "execution_count": 0,
      "outputs": [
        {
          "output_type": "stream",
          "text": [
            "com.kabam.newcnhoc\n",
            "com.com2us.soccerspirits.normal2.freefull.google.global.android.common\n",
            "com.blizzard.wtcg.hearthstone\n",
            "com.igg.bzbee.deckheroes\n",
            "com.easytech.wc3\n",
            "com.ironhidegames.android.kingdomrushorigins\n",
            "android.uniwar\n",
            "com.ninjakiwi.bloonstd5\n",
            "fi.bugbyte.harbinger\n",
            "com.ironhidegames.android.kingdomrushfrontiers\n",
            "air.com.flipline.papaspizzeriatogo\n",
            "age.of.civilizations.jakowski\n",
            "air.com.flipline.papasburgeriatogo\n",
            "com.miclos.google.games.outthere\n",
            "com.geekbeach.spacegame\n",
            "com.kabam.kocmobile\n",
            "com.ironhidegames.android.kingdomrushorigins\n",
            "com.igg.clash_of_lords\n",
            "ata.squid.kaw\n",
            "gl.fx.galaxycontrol\n",
            "com.hcg.cok.gp\n",
            "com.supercell.clashofclans\n",
            "com.supercell.clashroyale\n",
            "com.easytech.wc3\n",
            "com.xmonetize.quizzland\n",
            "com.unicostudio.braintest\n",
            "com.oyeapps.logotestfrance\n",
            "bouncing.balls.artworks\n",
            "lemmingsatwork.quiz\n",
            "eu.appsolutelyapps.quizpatente\n",
            "nuea.apps.hexws\n",
            "kr.caramel.quiz_stickman\n",
            "air.com.triviador.trxa\n",
            "com.finjanapps.syla\n",
            "com.sporcle\n",
            "com.etermax.preguntados.pro\n",
            "coolcherrytrees.games.reactor4\n",
            "com.jam.pointless\n",
            "com.etermax.preguntados.lite\n",
            "com.etermax.kingdoms\n",
            "com.omgpop.dstfree\n",
            "com.quizup.core\n",
            "quess.song.music.pop.quiz\n",
            "com.etermax.preguntados.pro\n",
            "com.june.think\n",
            "com.scimob.ninetyfour.percent\n",
            "com.onehundredpics.onehundredpicsquiz\n",
            "quess.song.music.pop.quiz\n",
            "logos.quiz.companies.game\n",
            "com.works.timeglass.logoquiz\n",
            "com.randomlogicgames.guessthesketch\n",
            "guess.the.movie.and.character.guessing.games.icomania.guessthefilm\n",
            "air.com.goda.games.closeuphorror\n",
            "logo.quiz.guess.movie\n"
          ],
          "name": "stdout"
        }
      ]
    },
    {
      "cell_type": "code",
      "metadata": {
        "id": "LCm1chh_3tGO",
        "colab_type": "code",
        "colab": {}
      },
      "source": [
        "def getSimilarAppRecords(simApps):\n",
        "  rs=pd.DataFrame()\n",
        "  id =[]\n",
        "  for x in simApps:\n",
        "    url=x['url']\n",
        "    id=url.split(\"id=\")[1]\n",
        "    each_game_result=app(id)\n",
        "    eachrow=add_details_as_row(each_game_result)\n",
        "    # print(eachrow)\n",
        "    rs = rs.append([eachrow])\n",
        "  \n",
        "  return rs;\n"
      ],
      "execution_count": 0,
      "outputs": []
    },
    {
      "cell_type": "code",
      "metadata": {
        "id": "hie-iGRlk64Y",
        "colab_type": "code",
        "colab": {}
      },
      "source": [
        "for i in PartAppId:\n",
        "  try:\n",
        "    similarApps= ps.similar(i,detailed=False)\n",
        "    apprecs=getSimilarAppRecords(similarApps)\n",
        "    recordsDF=recordsDF.append(apprecs)\n",
        "  except(HTTPError, RuntimeError) as e:\n",
        "    print(e)\n",
        "    print(i)\n",
        "    pass\n",
        "\n",
        "# print(similarApps)\n",
        "# print(len(similarApps))\n",
        "#print(type(bulkresults))"
      ],
      "execution_count": 0,
      "outputs": []
    },
    {
      "cell_type": "code",
      "metadata": {
        "id": "yvZSdLmKxaiH",
        "colab_type": "code",
        "outputId": "64e5762b-72a1-4908-db2a-474ce5fa88e9",
        "colab": {
          "base_uri": "https://localhost:8080/",
          "height": 34
        }
      },
      "source": [
        "len(recordsDF)\n",
        "# recordsDF"
      ],
      "execution_count": 0,
      "outputs": [
        {
          "output_type": "execute_result",
          "data": {
            "text/plain": [
              "2109"
            ]
          },
          "metadata": {
            "tags": []
          },
          "execution_count": 237
        }
      ]
    },
    {
      "cell_type": "code",
      "metadata": {
        "id": "aWcNiGYDc0NR",
        "colab_type": "code",
        "colab": {}
      },
      "source": [
        "recordsDF.to_csv('Batchfile.csv',index = False, header=True)"
      ],
      "execution_count": 0,
      "outputs": []
    },
    {
      "cell_type": "code",
      "metadata": {
        "id": "tx462w3Xt5a5",
        "colab_type": "code",
        "outputId": "ff7b2bf1-53c4-4611-988d-899fcdf4b8c8",
        "colab": {
          "base_uri": "https://localhost:8080/",
          "height": 34
        }
      },
      "source": [
        "new_record=pd.read_csv('/content/Batchfile.csv',sep=',')\n",
        "len(new_record)"
      ],
      "execution_count": 0,
      "outputs": [
        {
          "output_type": "execute_result",
          "data": {
            "text/plain": [
              "2109"
            ]
          },
          "metadata": {
            "tags": []
          },
          "execution_count": 240
        }
      ]
    }
  ]
}